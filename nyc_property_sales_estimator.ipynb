{
 "cells": [
  {
   "cell_type": "code",
   "execution_count": 1,
   "id": "76b70d65",
   "metadata": {},
   "outputs": [],
   "source": [
    "import numpy as np\n",
    "import pandas as pd\n",
    "import seaborn as sns\n",
    "import matplotlib.pyplot as plt\n",
    "sns.set_style('whitegrid')\n",
    "%matplotlib inline"
   ]
  },
  {
   "cell_type": "markdown",
   "id": "931a6d0f",
   "metadata": {},
   "source": [
    "### Data Preprocessing and Exploratory Data Analysis"
   ]
  },
  {
   "cell_type": "code",
   "execution_count": 2,
   "id": "761532f8",
   "metadata": {},
   "outputs": [],
   "source": [
    "df = pd.read_csv('nyc-rolling-sales.csv')"
   ]
  },
  {
   "cell_type": "code",
   "execution_count": 3,
   "id": "81bb7032",
   "metadata": {},
   "outputs": [
    {
     "data": {
      "text/html": [
       "<div>\n",
       "<style scoped>\n",
       "    .dataframe tbody tr th:only-of-type {\n",
       "        vertical-align: middle;\n",
       "    }\n",
       "\n",
       "    .dataframe tbody tr th {\n",
       "        vertical-align: top;\n",
       "    }\n",
       "\n",
       "    .dataframe thead th {\n",
       "        text-align: right;\n",
       "    }\n",
       "</style>\n",
       "<table border=\"1\" class=\"dataframe\">\n",
       "  <thead>\n",
       "    <tr style=\"text-align: right;\">\n",
       "      <th></th>\n",
       "      <th>Unnamed: 0</th>\n",
       "      <th>BOROUGH</th>\n",
       "      <th>NEIGHBORHOOD</th>\n",
       "      <th>BUILDING CLASS CATEGORY</th>\n",
       "      <th>TAX CLASS AT PRESENT</th>\n",
       "      <th>BLOCK</th>\n",
       "      <th>LOT</th>\n",
       "      <th>EASE-MENT</th>\n",
       "      <th>BUILDING CLASS AT PRESENT</th>\n",
       "      <th>ADDRESS</th>\n",
       "      <th>...</th>\n",
       "      <th>RESIDENTIAL UNITS</th>\n",
       "      <th>COMMERCIAL UNITS</th>\n",
       "      <th>TOTAL UNITS</th>\n",
       "      <th>LAND SQUARE FEET</th>\n",
       "      <th>GROSS SQUARE FEET</th>\n",
       "      <th>YEAR BUILT</th>\n",
       "      <th>TAX CLASS AT TIME OF SALE</th>\n",
       "      <th>BUILDING CLASS AT TIME OF SALE</th>\n",
       "      <th>SALE PRICE</th>\n",
       "      <th>SALE DATE</th>\n",
       "    </tr>\n",
       "  </thead>\n",
       "  <tbody>\n",
       "    <tr>\n",
       "      <th>0</th>\n",
       "      <td>4</td>\n",
       "      <td>1</td>\n",
       "      <td>ALPHABET CITY</td>\n",
       "      <td>07 RENTALS - WALKUP APARTMENTS</td>\n",
       "      <td>2A</td>\n",
       "      <td>392</td>\n",
       "      <td>6</td>\n",
       "      <td></td>\n",
       "      <td>C2</td>\n",
       "      <td>153 AVENUE B</td>\n",
       "      <td>...</td>\n",
       "      <td>5</td>\n",
       "      <td>0</td>\n",
       "      <td>5</td>\n",
       "      <td>1633</td>\n",
       "      <td>6440</td>\n",
       "      <td>1900</td>\n",
       "      <td>2</td>\n",
       "      <td>C2</td>\n",
       "      <td>6625000</td>\n",
       "      <td>2017-07-19 00:00:00</td>\n",
       "    </tr>\n",
       "    <tr>\n",
       "      <th>1</th>\n",
       "      <td>5</td>\n",
       "      <td>1</td>\n",
       "      <td>ALPHABET CITY</td>\n",
       "      <td>07 RENTALS - WALKUP APARTMENTS</td>\n",
       "      <td>2</td>\n",
       "      <td>399</td>\n",
       "      <td>26</td>\n",
       "      <td></td>\n",
       "      <td>C7</td>\n",
       "      <td>234 EAST 4TH   STREET</td>\n",
       "      <td>...</td>\n",
       "      <td>28</td>\n",
       "      <td>3</td>\n",
       "      <td>31</td>\n",
       "      <td>4616</td>\n",
       "      <td>18690</td>\n",
       "      <td>1900</td>\n",
       "      <td>2</td>\n",
       "      <td>C7</td>\n",
       "      <td>-</td>\n",
       "      <td>2016-12-14 00:00:00</td>\n",
       "    </tr>\n",
       "    <tr>\n",
       "      <th>2</th>\n",
       "      <td>6</td>\n",
       "      <td>1</td>\n",
       "      <td>ALPHABET CITY</td>\n",
       "      <td>07 RENTALS - WALKUP APARTMENTS</td>\n",
       "      <td>2</td>\n",
       "      <td>399</td>\n",
       "      <td>39</td>\n",
       "      <td></td>\n",
       "      <td>C7</td>\n",
       "      <td>197 EAST 3RD   STREET</td>\n",
       "      <td>...</td>\n",
       "      <td>16</td>\n",
       "      <td>1</td>\n",
       "      <td>17</td>\n",
       "      <td>2212</td>\n",
       "      <td>7803</td>\n",
       "      <td>1900</td>\n",
       "      <td>2</td>\n",
       "      <td>C7</td>\n",
       "      <td>-</td>\n",
       "      <td>2016-12-09 00:00:00</td>\n",
       "    </tr>\n",
       "    <tr>\n",
       "      <th>3</th>\n",
       "      <td>7</td>\n",
       "      <td>1</td>\n",
       "      <td>ALPHABET CITY</td>\n",
       "      <td>07 RENTALS - WALKUP APARTMENTS</td>\n",
       "      <td>2B</td>\n",
       "      <td>402</td>\n",
       "      <td>21</td>\n",
       "      <td></td>\n",
       "      <td>C4</td>\n",
       "      <td>154 EAST 7TH STREET</td>\n",
       "      <td>...</td>\n",
       "      <td>10</td>\n",
       "      <td>0</td>\n",
       "      <td>10</td>\n",
       "      <td>2272</td>\n",
       "      <td>6794</td>\n",
       "      <td>1913</td>\n",
       "      <td>2</td>\n",
       "      <td>C4</td>\n",
       "      <td>3936272</td>\n",
       "      <td>2016-09-23 00:00:00</td>\n",
       "    </tr>\n",
       "    <tr>\n",
       "      <th>4</th>\n",
       "      <td>8</td>\n",
       "      <td>1</td>\n",
       "      <td>ALPHABET CITY</td>\n",
       "      <td>07 RENTALS - WALKUP APARTMENTS</td>\n",
       "      <td>2A</td>\n",
       "      <td>404</td>\n",
       "      <td>55</td>\n",
       "      <td></td>\n",
       "      <td>C2</td>\n",
       "      <td>301 EAST 10TH   STREET</td>\n",
       "      <td>...</td>\n",
       "      <td>6</td>\n",
       "      <td>0</td>\n",
       "      <td>6</td>\n",
       "      <td>2369</td>\n",
       "      <td>4615</td>\n",
       "      <td>1900</td>\n",
       "      <td>2</td>\n",
       "      <td>C2</td>\n",
       "      <td>8000000</td>\n",
       "      <td>2016-11-17 00:00:00</td>\n",
       "    </tr>\n",
       "  </tbody>\n",
       "</table>\n",
       "<p>5 rows × 22 columns</p>\n",
       "</div>"
      ],
      "text/plain": [
       "   Unnamed: 0  BOROUGH   NEIGHBORHOOD  \\\n",
       "0           4        1  ALPHABET CITY   \n",
       "1           5        1  ALPHABET CITY   \n",
       "2           6        1  ALPHABET CITY   \n",
       "3           7        1  ALPHABET CITY   \n",
       "4           8        1  ALPHABET CITY   \n",
       "\n",
       "                       BUILDING CLASS CATEGORY TAX CLASS AT PRESENT  BLOCK  \\\n",
       "0  07 RENTALS - WALKUP APARTMENTS                                2A    392   \n",
       "1  07 RENTALS - WALKUP APARTMENTS                                 2    399   \n",
       "2  07 RENTALS - WALKUP APARTMENTS                                 2    399   \n",
       "3  07 RENTALS - WALKUP APARTMENTS                                2B    402   \n",
       "4  07 RENTALS - WALKUP APARTMENTS                                2A    404   \n",
       "\n",
       "   LOT EASE-MENT BUILDING CLASS AT PRESENT                 ADDRESS  ...  \\\n",
       "0    6                                  C2            153 AVENUE B  ...   \n",
       "1   26                                  C7   234 EAST 4TH   STREET  ...   \n",
       "2   39                                  C7   197 EAST 3RD   STREET  ...   \n",
       "3   21                                  C4     154 EAST 7TH STREET  ...   \n",
       "4   55                                  C2  301 EAST 10TH   STREET  ...   \n",
       "\n",
       "  RESIDENTIAL UNITS  COMMERCIAL UNITS  TOTAL UNITS  LAND SQUARE FEET  \\\n",
       "0                 5                 0            5              1633   \n",
       "1                28                 3           31              4616   \n",
       "2                16                 1           17              2212   \n",
       "3                10                 0           10              2272   \n",
       "4                 6                 0            6              2369   \n",
       "\n",
       "   GROSS SQUARE FEET YEAR BUILT TAX CLASS AT TIME OF SALE  \\\n",
       "0               6440       1900                         2   \n",
       "1              18690       1900                         2   \n",
       "2               7803       1900                         2   \n",
       "3               6794       1913                         2   \n",
       "4               4615       1900                         2   \n",
       "\n",
       "   BUILDING CLASS AT TIME OF SALE  SALE PRICE            SALE DATE  \n",
       "0                              C2     6625000  2017-07-19 00:00:00  \n",
       "1                              C7         -    2016-12-14 00:00:00  \n",
       "2                              C7         -    2016-12-09 00:00:00  \n",
       "3                              C4     3936272  2016-09-23 00:00:00  \n",
       "4                              C2     8000000  2016-11-17 00:00:00  \n",
       "\n",
       "[5 rows x 22 columns]"
      ]
     },
     "execution_count": 3,
     "metadata": {},
     "output_type": "execute_result"
    }
   ],
   "source": [
    "df.head()"
   ]
  },
  {
   "cell_type": "code",
   "execution_count": 4,
   "id": "e9d8aa3d",
   "metadata": {},
   "outputs": [
    {
     "name": "stdout",
     "output_type": "stream",
     "text": [
      "Number of columns: 22\n"
     ]
    }
   ],
   "source": [
    "print(f\"Number of columns: {len(df.columns)}\")"
   ]
  },
  {
   "cell_type": "code",
   "execution_count": 5,
   "id": "7f52cbb9",
   "metadata": {},
   "outputs": [
    {
     "name": "stdout",
     "output_type": "stream",
     "text": [
      "<class 'pandas.core.frame.DataFrame'>\n",
      "RangeIndex: 84548 entries, 0 to 84547\n",
      "Data columns (total 22 columns):\n",
      " #   Column                          Non-Null Count  Dtype \n",
      "---  ------                          --------------  ----- \n",
      " 0   Unnamed: 0                      84548 non-null  int64 \n",
      " 1   BOROUGH                         84548 non-null  int64 \n",
      " 2   NEIGHBORHOOD                    84548 non-null  object\n",
      " 3   BUILDING CLASS CATEGORY         84548 non-null  object\n",
      " 4   TAX CLASS AT PRESENT            84548 non-null  object\n",
      " 5   BLOCK                           84548 non-null  int64 \n",
      " 6   LOT                             84548 non-null  int64 \n",
      " 7   EASE-MENT                       84548 non-null  object\n",
      " 8   BUILDING CLASS AT PRESENT       84548 non-null  object\n",
      " 9   ADDRESS                         84548 non-null  object\n",
      " 10  APARTMENT NUMBER                84548 non-null  object\n",
      " 11  ZIP CODE                        84548 non-null  int64 \n",
      " 12  RESIDENTIAL UNITS               84548 non-null  int64 \n",
      " 13  COMMERCIAL UNITS                84548 non-null  int64 \n",
      " 14  TOTAL UNITS                     84548 non-null  int64 \n",
      " 15  LAND SQUARE FEET                84548 non-null  object\n",
      " 16  GROSS SQUARE FEET               84548 non-null  object\n",
      " 17  YEAR BUILT                      84548 non-null  int64 \n",
      " 18  TAX CLASS AT TIME OF SALE       84548 non-null  int64 \n",
      " 19  BUILDING CLASS AT TIME OF SALE  84548 non-null  object\n",
      " 20  SALE PRICE                      84548 non-null  object\n",
      " 21  SALE DATE                       84548 non-null  object\n",
      "dtypes: int64(10), object(12)\n",
      "memory usage: 14.2+ MB\n"
     ]
    }
   ],
   "source": [
    "df.info()"
   ]
  },
  {
   "cell_type": "markdown",
   "id": "488ce27d",
   "metadata": {},
   "source": [
    "There is no missing data in this dataset and there are **84,548** data entries"
   ]
  },
  {
   "cell_type": "code",
   "execution_count": 6,
   "id": "98cb1142",
   "metadata": {},
   "outputs": [],
   "source": [
    "uniques = []\n",
    "\n",
    "for col in df.columns:\n",
    "    num_uniques = df[col].nunique()\n",
    "    pct_uniques = round((num_uniques / len(df[col])) * 100,2)\n",
    "    temp_list = [col, num_uniques, pct_uniques]\n",
    "    uniques.append(temp_list)\n",
    "        "
   ]
  },
  {
   "cell_type": "code",
   "execution_count": 7,
   "id": "da84dea8",
   "metadata": {},
   "outputs": [
    {
     "name": "stdout",
     "output_type": "stream",
     "text": [
      "Column                            Number of Unique Values    Percentage of Unique Values\n",
      "------------------------------  -------------------------  -----------------------------\n",
      "Unnamed: 0                                          26736                          31.62\n",
      "BOROUGH                                                 5                           0.01\n",
      "NEIGHBORHOOD                                          254                           0.3\n",
      "BUILDING CLASS CATEGORY                                47                           0.06\n",
      "TAX CLASS AT PRESENT                                   11                           0.01\n",
      "BLOCK                                               11566                          13.68\n",
      "LOT                                                  2627                           3.11\n",
      "EASE-MENT                                               1                           0\n",
      "BUILDING CLASS AT PRESENT                             167                           0.2\n",
      "ADDRESS                                             67563                          79.91\n",
      "APARTMENT NUMBER                                     3989                           4.72\n",
      "ZIP CODE                                              186                           0.22\n",
      "RESIDENTIAL UNITS                                     176                           0.21\n",
      "COMMERCIAL UNITS                                       55                           0.07\n",
      "TOTAL UNITS                                           192                           0.23\n",
      "LAND SQUARE FEET                                     6062                           7.17\n",
      "GROSS SQUARE FEET                                    5691                           6.73\n",
      "YEAR BUILT                                            158                           0.19\n",
      "TAX CLASS AT TIME OF SALE                               4                           0\n",
      "BUILDING CLASS AT TIME OF SALE                        166                           0.2\n",
      "SALE PRICE                                          10008                          11.84\n",
      "SALE DATE                                             364                           0.43\n"
     ]
    }
   ],
   "source": [
    "from tabulate import tabulate\n",
    "print(tabulate(uniques, headers=['Column', 'Number of Unique Values', 'Percentage of Unique Values']))"
   ]
  },
  {
   "cell_type": "markdown",
   "id": "b412b3a5",
   "metadata": {},
   "source": [
    "The column, \"Unnamed: 0\", seems to be some sort of an index column that will be of no use in our analysis so it will be dropped. Also, the column \"EASE-MENT\" is just a column of empty strings which will be dropped as well."
   ]
  },
  {
   "cell_type": "code",
   "execution_count": 8,
   "id": "025b62be",
   "metadata": {},
   "outputs": [],
   "source": [
    "df.drop(['Unnamed: 0'], axis = 1, inplace = True)"
   ]
  },
  {
   "cell_type": "code",
   "execution_count": 9,
   "id": "822bb8df",
   "metadata": {},
   "outputs": [],
   "source": [
    "df.drop(['EASE-MENT'], axis = 1, inplace = True)"
   ]
  },
  {
   "cell_type": "markdown",
   "id": "6b662d3c",
   "metadata": {},
   "source": [
    "We can go ahead and delete the duplicate entries in the dataset"
   ]
  },
  {
   "cell_type": "code",
   "execution_count": 10,
   "id": "21ed6131",
   "metadata": {},
   "outputs": [
    {
     "data": {
      "text/plain": [
       "0"
      ]
     },
     "execution_count": 10,
     "metadata": {},
     "output_type": "execute_result"
    }
   ],
   "source": [
    "df = df.drop_duplicates(df.columns, keep = 'last')\n",
    "sum(df.duplicated(df.columns))"
   ]
  },
  {
   "cell_type": "markdown",
   "id": "a0030950",
   "metadata": {},
   "source": [
    "Now, let's check the data types of our columns to check if anything is out of place (i.e. numerical column is a string etc)"
   ]
  },
  {
   "cell_type": "code",
   "execution_count": 11,
   "id": "66aa82c2",
   "metadata": {},
   "outputs": [
    {
     "data": {
      "text/plain": [
       "BOROUGH                            int64\n",
       "NEIGHBORHOOD                      object\n",
       "BUILDING CLASS CATEGORY           object\n",
       "TAX CLASS AT PRESENT              object\n",
       "BLOCK                              int64\n",
       "LOT                                int64\n",
       "BUILDING CLASS AT PRESENT         object\n",
       "ADDRESS                           object\n",
       "APARTMENT NUMBER                  object\n",
       "ZIP CODE                           int64\n",
       "RESIDENTIAL UNITS                  int64\n",
       "COMMERCIAL UNITS                   int64\n",
       "TOTAL UNITS                        int64\n",
       "LAND SQUARE FEET                  object\n",
       "GROSS SQUARE FEET                 object\n",
       "YEAR BUILT                         int64\n",
       "TAX CLASS AT TIME OF SALE          int64\n",
       "BUILDING CLASS AT TIME OF SALE    object\n",
       "SALE PRICE                        object\n",
       "SALE DATE                         object\n",
       "dtype: object"
      ]
     },
     "execution_count": 11,
     "metadata": {},
     "output_type": "execute_result"
    }
   ],
   "source": [
    "df.dtypes"
   ]
  },
  {
   "cell_type": "markdown",
   "id": "314b2cf8",
   "metadata": {},
   "source": [
    "**LAND SQUARE FEET**, **GROSS SQUARE FEET** AND **SALE PRICE** should be converted to numerical features"
   ]
  },
  {
   "cell_type": "code",
   "execution_count": 12,
   "id": "49528f14",
   "metadata": {},
   "outputs": [
    {
     "name": "stdout",
     "output_type": "stream",
     "text": [
      " -        26054\n",
      "0         10297\n",
      "2000       3882\n",
      "2500       3455\n",
      "4000       3018\n",
      "          ...  \n",
      "52944         1\n",
      "8440          1\n",
      "6035          1\n",
      "183848        1\n",
      "10796         1\n",
      "Name: LAND SQUARE FEET, Length: 6062, dtype: int64\n",
      "\n",
      " -       27385\n",
      "0        11360\n",
      "2400       380\n",
      "2000       359\n",
      "1800       359\n",
      "         ...  \n",
      "9720         1\n",
      "5170         1\n",
      "14546        1\n",
      "3145         1\n",
      "64117        1\n",
      "Name: GROSS SQUARE FEET, Length: 5691, dtype: int64\n",
      "\n",
      " -        14176\n",
      "0         10012\n",
      "10          746\n",
      "450000      427\n",
      "550000      416\n",
      "          ...  \n",
      "842800        1\n",
      "211500        1\n",
      "299250        1\n",
      "436610        1\n",
      "69300         1\n",
      "Name: SALE PRICE, Length: 10008, dtype: int64\n"
     ]
    }
   ],
   "source": [
    "print(df['LAND SQUARE FEET'].value_counts())\n",
    "print()\n",
    "print(df['GROSS SQUARE FEET'].value_counts())\n",
    "print()\n",
    "print(df['SALE PRICE'].value_counts())"
   ]
  },
  {
   "cell_type": "markdown",
   "id": "18b0d738",
   "metadata": {},
   "source": [
    "A significant portion of this dataset have no values (-) for the above three features. In addition, an area or a house sale price of 0 is not reasonable"
   ]
  },
  {
   "cell_type": "code",
   "execution_count": 13,
   "id": "6f4e4031",
   "metadata": {},
   "outputs": [],
   "source": [
    "# 'coerce' sets values that cannot be casted to int or float (for example '-') to np.nan\n",
    "df['SALE PRICE'] = pd.to_numeric(df['SALE PRICE'], errors='coerce')\n",
    "df['LAND SQUARE FEET'] = pd.to_numeric(df['LAND SQUARE FEET'], errors='coerce')\n",
    "df['GROSS SQUARE FEET']= pd.to_numeric(df['GROSS SQUARE FEET'], errors='coerce')"
   ]
  },
  {
   "cell_type": "code",
   "execution_count": 14,
   "id": "d377e122",
   "metadata": {},
   "outputs": [
    {
     "name": "stdout",
     "output_type": "stream",
     "text": [
      "Percentage of Missing Data:\n",
      "GROSS SQUARE FEET: 32.7%\n",
      "SALE PRICE: 16.9%\n",
      "LAND SQUARE FEET: 31.1%\n"
     ]
    }
   ],
   "source": [
    "print(\"Percentage of Missing Data:\")\n",
    "print(\"GROSS SQUARE FEET:\",str((round(sum(df['GROSS SQUARE FEET'].isna()) / len(df),3)*100))[:4]+'%')\n",
    "print(\"SALE PRICE:\",str(round(sum(df['SALE PRICE'].isna()) / len(df),3)*100)[:4]+'%')\n",
    "print(\"LAND SQUARE FEET:\",str(round(sum(df['LAND SQUARE FEET'].isna()) / len(df),3)*100)[:4]+'%')"
   ]
  },
  {
   "cell_type": "code",
   "execution_count": 15,
   "id": "538b21ac",
   "metadata": {},
   "outputs": [
    {
     "data": {
      "text/html": [
       "<div>\n",
       "<style scoped>\n",
       "    .dataframe tbody tr th:only-of-type {\n",
       "        vertical-align: middle;\n",
       "    }\n",
       "\n",
       "    .dataframe tbody tr th {\n",
       "        vertical-align: top;\n",
       "    }\n",
       "\n",
       "    .dataframe thead th {\n",
       "        text-align: right;\n",
       "    }\n",
       "</style>\n",
       "<table border=\"1\" class=\"dataframe\">\n",
       "  <thead>\n",
       "    <tr style=\"text-align: right;\">\n",
       "      <th></th>\n",
       "      <th>GROSS SQUARE FEET</th>\n",
       "      <th>LAND SQUARE FEET</th>\n",
       "      <th>SALE PRICE</th>\n",
       "    </tr>\n",
       "    <tr>\n",
       "      <th>BOROUGH</th>\n",
       "      <th></th>\n",
       "      <th></th>\n",
       "      <th></th>\n",
       "    </tr>\n",
       "  </thead>\n",
       "  <tbody>\n",
       "    <tr>\n",
       "      <th>1</th>\n",
       "      <td>8120.0</td>\n",
       "      <td>2498.0</td>\n",
       "      <td>1155000.0</td>\n",
       "    </tr>\n",
       "    <tr>\n",
       "      <th>2</th>\n",
       "      <td>1764.0</td>\n",
       "      <td>2375.0</td>\n",
       "      <td>274897.0</td>\n",
       "    </tr>\n",
       "    <tr>\n",
       "      <th>3</th>\n",
       "      <td>1520.0</td>\n",
       "      <td>1800.0</td>\n",
       "      <td>425605.0</td>\n",
       "    </tr>\n",
       "    <tr>\n",
       "      <th>4</th>\n",
       "      <td>1700.0</td>\n",
       "      <td>2767.5</td>\n",
       "      <td>495000.0</td>\n",
       "    </tr>\n",
       "    <tr>\n",
       "      <th>5</th>\n",
       "      <td>1580.0</td>\n",
       "      <td>3700.0</td>\n",
       "      <td>465000.0</td>\n",
       "    </tr>\n",
       "  </tbody>\n",
       "</table>\n",
       "</div>"
      ],
      "text/plain": [
       "         GROSS SQUARE FEET  LAND SQUARE FEET  SALE PRICE\n",
       "BOROUGH                                                 \n",
       "1                   8120.0            2498.0   1155000.0\n",
       "2                   1764.0            2375.0    274897.0\n",
       "3                   1520.0            1800.0    425605.0\n",
       "4                   1700.0            2767.5    495000.0\n",
       "5                   1580.0            3700.0    465000.0"
      ]
     },
     "execution_count": 15,
     "metadata": {},
     "output_type": "execute_result"
    }
   ],
   "source": [
    "df.groupby('BOROUGH').median()[['GROSS SQUARE FEET','LAND SQUARE FEET','SALE PRICE']]"
   ]
  },
  {
   "cell_type": "code",
   "execution_count": 16,
   "id": "df2810e5",
   "metadata": {},
   "outputs": [
    {
     "data": {
      "text/html": [
       "<div>\n",
       "<style scoped>\n",
       "    .dataframe tbody tr th:only-of-type {\n",
       "        vertical-align: middle;\n",
       "    }\n",
       "\n",
       "    .dataframe tbody tr th {\n",
       "        vertical-align: top;\n",
       "    }\n",
       "\n",
       "    .dataframe thead th {\n",
       "        text-align: right;\n",
       "    }\n",
       "</style>\n",
       "<table border=\"1\" class=\"dataframe\">\n",
       "  <thead>\n",
       "    <tr style=\"text-align: right;\">\n",
       "      <th></th>\n",
       "      <th>GROSS SQUARE FEET</th>\n",
       "      <th>LAND SQUARE FEET</th>\n",
       "      <th>SALE PRICE</th>\n",
       "    </tr>\n",
       "    <tr>\n",
       "      <th>BOROUGH</th>\n",
       "      <th></th>\n",
       "      <th></th>\n",
       "      <th></th>\n",
       "    </tr>\n",
       "  </thead>\n",
       "  <tbody>\n",
       "    <tr>\n",
       "      <th>1</th>\n",
       "      <td>34439.796285</td>\n",
       "      <td>5575.500562</td>\n",
       "      <td>3.344642e+06</td>\n",
       "    </tr>\n",
       "    <tr>\n",
       "      <th>2</th>\n",
       "      <td>4489.147412</td>\n",
       "      <td>3909.012725</td>\n",
       "      <td>5.946771e+05</td>\n",
       "    </tr>\n",
       "    <tr>\n",
       "      <th>3</th>\n",
       "      <td>2481.756365</td>\n",
       "      <td>2016.057333</td>\n",
       "      <td>8.410834e+05</td>\n",
       "    </tr>\n",
       "    <tr>\n",
       "      <th>4</th>\n",
       "      <td>3272.440270</td>\n",
       "      <td>4263.580512</td>\n",
       "      <td>7.388827e+05</td>\n",
       "    </tr>\n",
       "    <tr>\n",
       "      <th>5</th>\n",
       "      <td>2306.762002</td>\n",
       "      <td>8339.843259</td>\n",
       "      <td>5.436113e+05</td>\n",
       "    </tr>\n",
       "  </tbody>\n",
       "</table>\n",
       "</div>"
      ],
      "text/plain": [
       "         GROSS SQUARE FEET  LAND SQUARE FEET    SALE PRICE\n",
       "BOROUGH                                                   \n",
       "1             34439.796285       5575.500562  3.344642e+06\n",
       "2              4489.147412       3909.012725  5.946771e+05\n",
       "3              2481.756365       2016.057333  8.410834e+05\n",
       "4              3272.440270       4263.580512  7.388827e+05\n",
       "5              2306.762002       8339.843259  5.436113e+05"
      ]
     },
     "execution_count": 16,
     "metadata": {},
     "output_type": "execute_result"
    }
   ],
   "source": [
    "df.groupby('BOROUGH').mean()[['GROSS SQUARE FEET','LAND SQUARE FEET','SALE PRICE']]"
   ]
  },
  {
   "cell_type": "markdown",
   "id": "7b0cf105",
   "metadata": {},
   "source": [
    "The median square footage of the borough that the house was in was used to fill in the missing square footage values. The median was chosen instead of the mean since the data is heavily positively skewed. "
   ]
  },
  {
   "cell_type": "code",
   "execution_count": 17,
   "id": "fa252127",
   "metadata": {},
   "outputs": [
    {
     "data": {
      "text/plain": [
       "75.76231968704101"
      ]
     },
     "execution_count": 17,
     "metadata": {},
     "output_type": "execute_result"
    }
   ],
   "source": [
    "df['LAND SQUARE FEET'].skew()"
   ]
  },
  {
   "cell_type": "code",
   "execution_count": 18,
   "id": "b288774b",
   "metadata": {},
   "outputs": [
    {
     "data": {
      "text/plain": [
       "61.12121621015973"
      ]
     },
     "execution_count": 18,
     "metadata": {},
     "output_type": "execute_result"
    }
   ],
   "source": [
    "df['GROSS SQUARE FEET'].skew()"
   ]
  },
  {
   "cell_type": "code",
   "execution_count": 19,
   "id": "8abae31d",
   "metadata": {},
   "outputs": [],
   "source": [
    "df['LAND SQUARE FEET'] = df.groupby('BOROUGH')['LAND SQUARE FEET'].apply(lambda x: x.fillna(x.median()))\n",
    "df['GROSS SQUARE FEET'] = df.groupby('BOROUGH')['GROSS SQUARE FEET'].apply(lambda x: x.fillna(x.median()))"
   ]
  },
  {
   "cell_type": "code",
   "execution_count": 20,
   "id": "39a22316",
   "metadata": {
    "scrolled": true
   },
   "outputs": [
    {
     "data": {
      "text/plain": [
       "Text(0.5, 1.0, 'Univariate Box Plot of House Sale Price')"
      ]
     },
     "execution_count": 20,
     "metadata": {},
     "output_type": "execute_result"
    },
    {
     "data": {
      "image/png": "[encoded data removed]",
      "text/plain": [
       "<Figure size 432x288 with 1 Axes>"
      ]
     },
     "metadata": {
      "needs_background": "light"
     },
     "output_type": "display_data"
    }
   ],
   "source": [
    "sns.boxplot(x='SALE PRICE', data=df)\n",
    "plt.title(\"Univariate Box Plot of House Sale Price\")"
   ]
  },
  {
   "cell_type": "code",
   "execution_count": 21,
   "id": "3fcad2e3",
   "metadata": {},
   "outputs": [
    {
     "data": {
      "text/plain": [
       "19"
      ]
     },
     "execution_count": 21,
     "metadata": {},
     "output_type": "execute_result"
    }
   ],
   "source": [
    "# The sales prices are positively skewed (right-skewed)\n",
    "len(df[df['SALE PRICE'] > 169000000])"
   ]
  },
  {
   "cell_type": "markdown",
   "id": "9a5f71ed",
   "metadata": {},
   "source": [
    "There seems to be 19 houses worth more than \\\\$169 million which is the most expensive listing in all of NYC \\\n",
    "House sales where the sales price was greater than \\\\$169 million and less than \\\\$10 thousand will be dropped as it is not reasonable to have data where the house price is greater than the most expensive listing and less than \\\\$10,000 \\\n",
    "\\\n",
    "It should also be noted that there are several entries where the sales price is not listed as it was simply a deed transfer within the family or where there was no recorded monetary transaction."
   ]
  },
  {
   "cell_type": "code",
   "execution_count": 22,
   "id": "4162b9b2",
   "metadata": {},
   "outputs": [],
   "source": [
    "df = df[(df['SALE PRICE'] <= 169000000) & (df['SALE PRICE'] >= 10000)]"
   ]
  },
  {
   "cell_type": "markdown",
   "id": "f112e787",
   "metadata": {},
   "source": [
    "Let's explore the YEAR BUILT column to make sure there are no entries with unreasonable data"
   ]
  },
  {
   "cell_type": "code",
   "execution_count": 23,
   "id": "c00e871a",
   "metadata": {
    "scrolled": true
   },
   "outputs": [
    {
     "data": {
      "text/plain": [
       "array([   0, 1111, 1800, 1832, 1835, 1844, 1845, 1846, 1847, 1849, 1850,\n",
       "       1851, 1852, 1854, 1855, 1856, 1864, 1865, 1870, 1871, 1875, 1880,\n",
       "       1881, 1882, 1883, 1889, 1890, 1891, 1892, 1893, 1894, 1895, 1896,\n",
       "       1898, 1899, 1900, 1901, 1902, 1903, 1904, 1905, 1906, 1907, 1908,\n",
       "       1909, 1910, 1911, 1912, 1913, 1914, 1915, 1916, 1917, 1918, 1919,\n",
       "       1920, 1921, 1922, 1923, 1924, 1925, 1926, 1927, 1928, 1929, 1930,\n",
       "       1931, 1932, 1933, 1934, 1935, 1936, 1937, 1938, 1939, 1940, 1941,\n",
       "       1942, 1943, 1944, 1945, 1946, 1947, 1948, 1949, 1950, 1951, 1952,\n",
       "       1953, 1954, 1955, 1956, 1957, 1958, 1959, 1960, 1961, 1962, 1963,\n",
       "       1964, 1965, 1966, 1967, 1968, 1969, 1970, 1971, 1972, 1973, 1974,\n",
       "       1975, 1976, 1977, 1978, 1979, 1980, 1981, 1982, 1983, 1984, 1985,\n",
       "       1986, 1987, 1988, 1989, 1990, 1991, 1992, 1993, 1994, 1995, 1996,\n",
       "       1997, 1998, 1999, 2000, 2001, 2002, 2003, 2004, 2005, 2006, 2007,\n",
       "       2008, 2009, 2010, 2011, 2012, 2013, 2014, 2015, 2016, 2017],\n",
       "      dtype=int64)"
      ]
     },
     "execution_count": 23,
     "metadata": {},
     "output_type": "execute_result"
    }
   ],
   "source": [
    "np.sort(df['YEAR BUILT'].unique())"
   ]
  },
  {
   "cell_type": "code",
   "execution_count": 24,
   "id": "48d73980",
   "metadata": {},
   "outputs": [
    {
     "data": {
      "text/plain": [
       "0       4139\n",
       "1920    4004\n",
       "1930    3331\n",
       "1925    2864\n",
       "1910    2342\n",
       "        ... \n",
       "1855       1\n",
       "1111       1\n",
       "1871       1\n",
       "1891       1\n",
       "2017       1\n",
       "Name: YEAR BUILT, Length: 153, dtype: int64"
      ]
     },
     "execution_count": 24,
     "metadata": {},
     "output_type": "execute_result"
    }
   ],
   "source": [
    "df[\"YEAR BUILT\"].value_counts()"
   ]
  },
  {
   "cell_type": "markdown",
   "id": "959491fb",
   "metadata": {},
   "source": [
    "It makes sense to drop all columns where the YEAR BUILT is before 1800 (dropping 4140 entries)"
   ]
  },
  {
   "cell_type": "code",
   "execution_count": 25,
   "id": "aab41684",
   "metadata": {},
   "outputs": [],
   "source": [
    "df = df[(df['YEAR BUILT'] >= 1800)]"
   ]
  },
  {
   "cell_type": "markdown",
   "id": "e745e8aa",
   "metadata": {},
   "source": [
    "In order to add a feature that is the age of the building in years, we will have to extract the year the building was sold and subtract the year the building was built"
   ]
  },
  {
   "cell_type": "code",
   "execution_count": 26,
   "id": "77d46ed0",
   "metadata": {},
   "outputs": [],
   "source": [
    "df['SALE DATE']= pd.to_datetime(df['SALE DATE'], errors='coerce')"
   ]
  },
  {
   "cell_type": "code",
   "execution_count": 27,
   "id": "b55afeb1",
   "metadata": {},
   "outputs": [],
   "source": [
    "df['YEAR SOLD'] = df['SALE DATE'].apply(lambda x: x.year)"
   ]
  },
  {
   "cell_type": "code",
   "execution_count": 28,
   "id": "5590855f",
   "metadata": {},
   "outputs": [
    {
     "data": {
      "text/plain": [
       "2017    35647\n",
       "2016    18527\n",
       "Name: YEAR SOLD, dtype: int64"
      ]
     },
     "execution_count": 28,
     "metadata": {},
     "output_type": "execute_result"
    }
   ],
   "source": [
    "df['YEAR SOLD'].value_counts()"
   ]
  },
  {
   "cell_type": "code",
   "execution_count": 29,
   "id": "149011aa",
   "metadata": {},
   "outputs": [],
   "source": [
    "# df['BUILDING AGE IN YEARS'] = df['YEAR SOLD'] - df['YEAR BUILT']"
   ]
  },
  {
   "cell_type": "markdown",
   "id": "3b994e1d",
   "metadata": {},
   "source": [
    "We can now move on to visualizing the data to get a better understanding and intuition of the problem at hand"
   ]
  },
  {
   "cell_type": "code",
   "execution_count": 30,
   "id": "1f940536",
   "metadata": {},
   "outputs": [
    {
     "name": "stderr",
     "output_type": "stream",
     "text": [
      "C:\\Users\\Prave\\anaconda3\\lib\\site-packages\\seaborn\\distributions.py:2619: FutureWarning: `distplot` is a deprecated function and will be removed in a future version. Please adapt your code to use either `displot` (a figure-level function with similar flexibility) or `histplot` (an axes-level function for histograms).\n",
      "  warnings.warn(msg, FutureWarning)\n"
     ]
    },
    {
     "data": {
      "text/plain": [
       "Text(0.5, 1.08, 'DISTRIBUTION PLOT OF ALL HOUSE SALES UNDER $5 MILLION')"
      ]
     },
     "execution_count": 30,
     "metadata": {},
     "output_type": "execute_result"
    },
    {
     "data": {
      "image/png": "[encoded data removed]",
      "text/plain": [
       "<Figure size 432x288 with 1 Axes>"
      ]
     },
     "metadata": {
      "needs_background": "light"
     },
     "output_type": "display_data"
    }
   ],
   "source": [
    "sns.distplot(df[df['SALE PRICE']<=5000000]['SALE PRICE'],hist=True, kde=True, color = 'blue',hist_kws={'edgecolor':'black'})\n",
    "plt.xlim([0,5000000])\n",
    "plt.title(\"DISTRIBUTION PLOT OF ALL HOUSE SALES UNDER $5 MILLION\", y= 1.08)"
   ]
  },
  {
   "cell_type": "code",
   "execution_count": 31,
   "id": "f4d8104b",
   "metadata": {},
   "outputs": [
    {
     "data": {
      "text/plain": [
       "17.59623408153238"
      ]
     },
     "execution_count": 31,
     "metadata": {},
     "output_type": "execute_result"
    }
   ],
   "source": [
    "df['SALE PRICE'].skew()"
   ]
  },
  {
   "cell_type": "code",
   "execution_count": 32,
   "id": "d833f803",
   "metadata": {},
   "outputs": [],
   "source": [
    "median_borough = df.groupby('BOROUGH').median()\n",
    "median_borough = median_borough.reset_index()\n",
    "median_borough['BOROUGH'] = median_borough['BOROUGH'].map({1:\"Manhattan\",2:\"Bronx\",3:\"Brooklyn\",4:\"Queens\",5:\"Staten Island\"})"
   ]
  },
  {
   "cell_type": "code",
   "execution_count": 33,
   "id": "2dd7285f",
   "metadata": {},
   "outputs": [
    {
     "data": {
      "text/plain": [
       "Text(0.5, 1.0, 'MEDIAN HOUSE SALE PRICE BY BOROUGH')"
      ]
     },
     "execution_count": 33,
     "metadata": {},
     "output_type": "execute_result"
    },
    {
     "data": {
      "image/png": "[encoded data removed]",
      "text/plain": [
       "<Figure size 432x288 with 1 Axes>"
      ]
     },
     "metadata": {},
     "output_type": "display_data"
    }
   ],
   "source": [
    "sns.set_style('white')\n",
    "ax = sns.barplot(x ='BOROUGH',y = 'SALE PRICE',data =median_borough)\n",
    "ax.set_ylabel(\"HOUSE SALE PRICE IN MILLIONS\")\n",
    "ax.set_title(\"MEDIAN HOUSE SALE PRICE BY BOROUGH\")"
   ]
  },
  {
   "cell_type": "code",
   "execution_count": 34,
   "id": "60b4f8c9",
   "metadata": {},
   "outputs": [],
   "source": [
    "num_borough = df.groupby('BOROUGH').size()\n",
    "num_borough = num_borough.to_frame()\n",
    "num_borough = num_borough.reset_index()\n",
    "num_borough['BOROUGH'] = num_borough['BOROUGH'].map({1:\"Manhattan\",2:\"Bronx\",3:\"Brooklyn\",4:\"Queens\",5:\"Staten Island\"})\n",
    "num_borough.columns = ['BOROUGH', 'count']"
   ]
  },
  {
   "cell_type": "code",
   "execution_count": 35,
   "id": "fbd558d5",
   "metadata": {},
   "outputs": [
    {
     "data": {
      "text/plain": [
       "Text(0.5, 1.0, 'NUMBER OF HOUSE SALES BY BOROUGH')"
      ]
     },
     "execution_count": 35,
     "metadata": {},
     "output_type": "execute_result"
    },
    {
     "data": {
      "image/png": "[encoded data removed]",
      "text/plain": [
       "<Figure size 432x288 with 1 Axes>"
      ]
     },
     "metadata": {},
     "output_type": "display_data"
    }
   ],
   "source": [
    "ax = sns.barplot(x ='BOROUGH',y = 'count',data = num_borough)\n",
    "ax.set_ylabel(\"NUMBER OF HOUSES SOLD\")\n",
    "ax.set_title(\"NUMBER OF HOUSE SALES BY BOROUGH\")"
   ]
  },
  {
   "cell_type": "markdown",
   "id": "93b0ca0e",
   "metadata": {},
   "source": [
    "Now, let us explore the correlation of the features in this dataset to ensure that there are no redundant features which will only add to the complexity of our model"
   ]
  },
  {
   "cell_type": "code",
   "execution_count": 36,
   "id": "38aabb85",
   "metadata": {},
   "outputs": [
    {
     "data": {
      "text/plain": [
       "<AxesSubplot:>"
      ]
     },
     "execution_count": 36,
     "metadata": {},
     "output_type": "execute_result"
    },
    {
     "data": {
      "image/png": "[encoded data removed]",
      "text/plain": [
       "<Figure size 864x720 with 2 Axes>"
      ]
     },
     "metadata": {},
     "output_type": "display_data"
    }
   ],
   "source": [
    "plt.figure(figsize=(12,10))\n",
    "sns.heatmap(df.corr(), annot = True)"
   ]
  },
  {
   "cell_type": "code",
   "execution_count": 37,
   "id": "dfa046fb",
   "metadata": {},
   "outputs": [
    {
     "data": {
      "text/html": [
       "<div>\n",
       "<style scoped>\n",
       "    .dataframe tbody tr th:only-of-type {\n",
       "        vertical-align: middle;\n",
       "    }\n",
       "\n",
       "    .dataframe tbody tr th {\n",
       "        vertical-align: top;\n",
       "    }\n",
       "\n",
       "    .dataframe thead th {\n",
       "        text-align: right;\n",
       "    }\n",
       "</style>\n",
       "<table border=\"1\" class=\"dataframe\">\n",
       "  <thead>\n",
       "    <tr style=\"text-align: right;\">\n",
       "      <th></th>\n",
       "      <th>BOROUGH</th>\n",
       "      <th>BLOCK</th>\n",
       "      <th>LOT</th>\n",
       "      <th>ZIP CODE</th>\n",
       "      <th>RESIDENTIAL UNITS</th>\n",
       "      <th>COMMERCIAL UNITS</th>\n",
       "      <th>TOTAL UNITS</th>\n",
       "      <th>LAND SQUARE FEET</th>\n",
       "      <th>GROSS SQUARE FEET</th>\n",
       "      <th>YEAR BUILT</th>\n",
       "      <th>TAX CLASS AT TIME OF SALE</th>\n",
       "      <th>SALE PRICE</th>\n",
       "      <th>YEAR SOLD</th>\n",
       "    </tr>\n",
       "  </thead>\n",
       "  <tbody>\n",
       "    <tr>\n",
       "      <th>RESIDENTIAL UNITS</th>\n",
       "      <td>NaN</td>\n",
       "      <td>NaN</td>\n",
       "      <td>NaN</td>\n",
       "      <td>NaN</td>\n",
       "      <td>NaN</td>\n",
       "      <td>NaN</td>\n",
       "      <td>0.811853</td>\n",
       "      <td>NaN</td>\n",
       "      <td>0.806017</td>\n",
       "      <td>NaN</td>\n",
       "      <td>NaN</td>\n",
       "      <td>NaN</td>\n",
       "      <td>NaN</td>\n",
       "    </tr>\n",
       "    <tr>\n",
       "      <th>TOTAL UNITS</th>\n",
       "      <td>NaN</td>\n",
       "      <td>NaN</td>\n",
       "      <td>NaN</td>\n",
       "      <td>NaN</td>\n",
       "      <td>0.811853</td>\n",
       "      <td>NaN</td>\n",
       "      <td>NaN</td>\n",
       "      <td>NaN</td>\n",
       "      <td>NaN</td>\n",
       "      <td>NaN</td>\n",
       "      <td>NaN</td>\n",
       "      <td>NaN</td>\n",
       "      <td>NaN</td>\n",
       "    </tr>\n",
       "    <tr>\n",
       "      <th>LAND SQUARE FEET</th>\n",
       "      <td>NaN</td>\n",
       "      <td>NaN</td>\n",
       "      <td>NaN</td>\n",
       "      <td>NaN</td>\n",
       "      <td>NaN</td>\n",
       "      <td>NaN</td>\n",
       "      <td>NaN</td>\n",
       "      <td>NaN</td>\n",
       "      <td>0.749264</td>\n",
       "      <td>NaN</td>\n",
       "      <td>NaN</td>\n",
       "      <td>NaN</td>\n",
       "      <td>NaN</td>\n",
       "    </tr>\n",
       "    <tr>\n",
       "      <th>GROSS SQUARE FEET</th>\n",
       "      <td>NaN</td>\n",
       "      <td>NaN</td>\n",
       "      <td>NaN</td>\n",
       "      <td>NaN</td>\n",
       "      <td>0.806017</td>\n",
       "      <td>NaN</td>\n",
       "      <td>NaN</td>\n",
       "      <td>0.749264</td>\n",
       "      <td>NaN</td>\n",
       "      <td>NaN</td>\n",
       "      <td>NaN</td>\n",
       "      <td>NaN</td>\n",
       "      <td>NaN</td>\n",
       "    </tr>\n",
       "  </tbody>\n",
       "</table>\n",
       "</div>"
      ],
      "text/plain": [
       "                   BOROUGH  BLOCK  LOT  ZIP CODE  RESIDENTIAL UNITS  \\\n",
       "RESIDENTIAL UNITS      NaN    NaN  NaN       NaN                NaN   \n",
       "TOTAL UNITS            NaN    NaN  NaN       NaN           0.811853   \n",
       "LAND SQUARE FEET       NaN    NaN  NaN       NaN                NaN   \n",
       "GROSS SQUARE FEET      NaN    NaN  NaN       NaN           0.806017   \n",
       "\n",
       "                   COMMERCIAL UNITS  TOTAL UNITS  LAND SQUARE FEET  \\\n",
       "RESIDENTIAL UNITS               NaN     0.811853               NaN   \n",
       "TOTAL UNITS                     NaN          NaN               NaN   \n",
       "LAND SQUARE FEET                NaN          NaN               NaN   \n",
       "GROSS SQUARE FEET               NaN          NaN          0.749264   \n",
       "\n",
       "                   GROSS SQUARE FEET  YEAR BUILT  TAX CLASS AT TIME OF SALE  \\\n",
       "RESIDENTIAL UNITS           0.806017         NaN                        NaN   \n",
       "TOTAL UNITS                      NaN         NaN                        NaN   \n",
       "LAND SQUARE FEET            0.749264         NaN                        NaN   \n",
       "GROSS SQUARE FEET                NaN         NaN                        NaN   \n",
       "\n",
       "                   SALE PRICE  YEAR SOLD  \n",
       "RESIDENTIAL UNITS         NaN        NaN  \n",
       "TOTAL UNITS               NaN        NaN  \n",
       "LAND SQUARE FEET          NaN        NaN  \n",
       "GROSS SQUARE FEET         NaN        NaN  "
      ]
     },
     "execution_count": 37,
     "metadata": {},
     "output_type": "execute_result"
    }
   ],
   "source": [
    "df.corr()[(abs(df.corr())>0.7) & (df.corr() != 1)].dropna(thresh = 1)"
   ]
  },
  {
   "cell_type": "markdown",
   "id": "d1fdd5ff",
   "metadata": {},
   "source": [
    "**Total Units** and **Residential Units** seem to be highly correlated. Maybe we can get rid of one of the two columns. corr = 0.81 \\\n",
    "**Residential Units** and **Gross Square Feet** seem to be highly correlated. corr = 0.81 \\\n",
    "**Total Units** and **Commercial Units** are also somewhat correlated. corr = 0.59 \\\n",
    "**BLOCK** and **BOROUGH** are also somewhat correlated. corr = 0.44"
   ]
  },
  {
   "cell_type": "code",
   "execution_count": 38,
   "id": "d3b06371",
   "metadata": {},
   "outputs": [
    {
     "data": {
      "text/plain": [
       "Text(0.5, 1.0, 'Feature Correlation with House Sale Price')"
      ]
     },
     "execution_count": 38,
     "metadata": {},
     "output_type": "execute_result"
    },
    {
     "data": {
      "image/png": "[encoded data removed]",
      "text/plain": [
       "<Figure size 432x288 with 1 Axes>"
      ]
     },
     "metadata": {},
     "output_type": "display_data"
    }
   ],
   "source": [
    "plt.figure(figsize=(6,4))\n",
    "ax = df.corr()['SALE PRICE'].sort_values().drop('SALE PRICE').plot(kind='bar',color='black')\n",
    "ax.set_title(\"Feature Correlation with House Sale Price\")"
   ]
  },
  {
   "cell_type": "markdown",
   "id": "911ce86d",
   "metadata": {},
   "source": [
    "### One hot encoding"
   ]
  },
  {
   "cell_type": "markdown",
   "id": "4ad9f796",
   "metadata": {},
   "source": [
    "We will be proceeding with two different one hot encoding criterion:\n",
    "1) One hot encode all features with less than 50 unique categories \\\n",
    "2) One hot encode all features with less than 200 unique categories\n",
    "\n",
    "If there is a noticeable difference in model accuracy due to the additional features, then we will proceed with the 2nd criteria (less than 200 unique categories). Otherwise, we will proceed with the 1st criteria (less than 50 unique categories) in order to keep model complexity low. "
   ]
  },
  {
   "cell_type": "markdown",
   "id": "65a33c2c",
   "metadata": {},
   "source": [
    "**Criteria 1** One hot encode all columns with less than 50 unique categories"
   ]
  },
  {
   "cell_type": "code",
   "execution_count": 39,
   "id": "4cb6b6d1",
   "metadata": {},
   "outputs": [
    {
     "data": {
      "text/plain": [
       "Index(['NEIGHBORHOOD', 'BUILDING CLASS CATEGORY', 'TAX CLASS AT PRESENT',\n",
       "       'BUILDING CLASS AT PRESENT', 'ADDRESS', 'APARTMENT NUMBER',\n",
       "       'BUILDING CLASS AT TIME OF SALE'],\n",
       "      dtype='object')"
      ]
     },
     "execution_count": 39,
     "metadata": {},
     "output_type": "execute_result"
    }
   ],
   "source": [
    "# Non numerical columns remaining\n",
    "df.select_dtypes(['object']).columns"
   ]
  },
  {
   "cell_type": "code",
   "execution_count": 40,
   "id": "4ed72efc",
   "metadata": {},
   "outputs": [
    {
     "name": "stdout",
     "output_type": "stream",
     "text": [
      "Features with less than 50 unique categories\n"
     ]
    },
    {
     "data": {
      "text/plain": [
       "BOROUGH                       5\n",
       "BUILDING CLASS CATEGORY      46\n",
       "TAX CLASS AT PRESENT         10\n",
       "COMMERCIAL UNITS             37\n",
       "TAX CLASS AT TIME OF SALE     3\n",
       "YEAR SOLD                     2\n",
       "dtype: int64"
      ]
     },
     "execution_count": 40,
     "metadata": {},
     "output_type": "execute_result"
    }
   ],
   "source": [
    "print(\"Features with less than 50 unique categories\")\n",
    "df.nunique()[df.nunique() < 50]"
   ]
  },
  {
   "cell_type": "markdown",
   "id": "d6f78568",
   "metadata": {},
   "source": [
    "String features with a reasonable number of categories (less than 50 was chosen here) should be converted to the pandas category data type as it saves memory and and signals to other python libraries and functions that this column should be treated as a categorical feature"
   ]
  },
  {
   "cell_type": "markdown",
   "id": "da7f24f1",
   "metadata": {},
   "source": [
    "COMMERCIAL UNITS and YEAR SOLD were not selected to be one hot encoded as they are numerical features where an order is relevant. The more commercial units, the more expensive the house. Intuitively, the newer the house, the more expensive it is. "
   ]
  },
  {
   "cell_type": "code",
   "execution_count": 41,
   "id": "aada5854",
   "metadata": {},
   "outputs": [],
   "source": [
    "df['BUILDING CLASS CATEGORY'] = df['BUILDING CLASS CATEGORY'].astype('category')\n",
    "df['BOROUGH'] = df['BOROUGH'].astype('category')\n",
    "df['TAX CLASS AT TIME OF SALE'] = df['TAX CLASS AT TIME OF SALE'].astype('category')\n",
    "df['TAX CLASS AT PRESENT'] = df['TAX CLASS AT PRESENT'].astype('category')"
   ]
  },
  {
   "cell_type": "code",
   "execution_count": 42,
   "id": "bd26e9b2",
   "metadata": {},
   "outputs": [],
   "source": [
    "one_hot_cols = ['BOROUGH', 'BUILDING CLASS CATEGORY', 'TAX CLASS AT PRESENT', 'TAX CLASS AT TIME OF SALE']"
   ]
  },
  {
   "cell_type": "code",
   "execution_count": 43,
   "id": "dbb9a2db",
   "metadata": {},
   "outputs": [],
   "source": [
    "one_hot_encode = pd.get_dummies(df[one_hot_cols], drop_first=True)"
   ]
  },
  {
   "cell_type": "markdown",
   "id": "0bb28d13",
   "metadata": {},
   "source": [
    "**Criteria 2** One hot encode all columns with less than 200 unique categories"
   ]
  },
  {
   "cell_type": "code",
   "execution_count": 44,
   "id": "091d2ca6",
   "metadata": {},
   "outputs": [
    {
     "name": "stdout",
     "output_type": "stream",
     "text": [
      "Features with less than 200 unique categories\n"
     ]
    },
    {
     "data": {
      "text/plain": [
       "BOROUGH                             5\n",
       "BUILDING CLASS CATEGORY            46\n",
       "TAX CLASS AT PRESENT               10\n",
       "BUILDING CLASS AT PRESENT         148\n",
       "ZIP CODE                          182\n",
       "RESIDENTIAL UNITS                 136\n",
       "COMMERCIAL UNITS                   37\n",
       "TOTAL UNITS                       142\n",
       "YEAR BUILT                        151\n",
       "TAX CLASS AT TIME OF SALE           3\n",
       "BUILDING CLASS AT TIME OF SALE    148\n",
       "YEAR SOLD                           2\n",
       "dtype: int64"
      ]
     },
     "execution_count": 44,
     "metadata": {},
     "output_type": "execute_result"
    }
   ],
   "source": [
    "print(\"Features with less than 200 unique categories\")\n",
    "df.nunique()[(df.nunique() < 200)]"
   ]
  },
  {
   "cell_type": "markdown",
   "id": "cb668484",
   "metadata": {},
   "source": [
    "COMMERICIAL UNITS, YEAR SOLD, RESIDENTIAL UNITS, TOTAL UNITS and YEAR BUILT were not one hot encoded as they are numerical features, where their order makes sense. \n",
    "\n"
   ]
  },
  {
   "cell_type": "code",
   "execution_count": 45,
   "id": "10584cbe",
   "metadata": {},
   "outputs": [],
   "source": [
    "df2 = df.copy()"
   ]
  },
  {
   "cell_type": "code",
   "execution_count": 46,
   "id": "879092c8",
   "metadata": {},
   "outputs": [],
   "source": [
    "one_hot_cols_2 = ['BOROUGH', 'BUILDING CLASS CATEGORY', 'TAX CLASS AT PRESENT', 'TAX CLASS AT TIME OF SALE', \\\n",
    "                'ZIP CODE','BUILDING CLASS AT TIME OF SALE', 'BUILDING CLASS AT PRESENT']"
   ]
  },
  {
   "cell_type": "code",
   "execution_count": 47,
   "id": "8e6ea3f9",
   "metadata": {},
   "outputs": [],
   "source": [
    "df2['BUILDING CLASS CATEGORY'] = df2['BUILDING CLASS CATEGORY'].astype('category')\n",
    "df2['BOROUGH'] = df2['BOROUGH'].astype('category')\n",
    "df2['TAX CLASS AT TIME OF SALE'] = df2['TAX CLASS AT TIME OF SALE'].astype('category')\n",
    "df2['TAX CLASS AT PRESENT'] = df2['TAX CLASS AT PRESENT'].astype('category')\n",
    "df2['BUILDING CLASS AT PRESENT'] = df2['BUILDING CLASS AT PRESENT'].astype('category')\n",
    "df2['BUILDING CLASS AT TIME OF SALE'] = df2['BUILDING CLASS AT TIME OF SALE'].astype('category')\n",
    "df2['ZIP CODE'] = df2['ZIP CODE'].astype('category')"
   ]
  },
  {
   "cell_type": "code",
   "execution_count": 48,
   "id": "36a61ff9",
   "metadata": {},
   "outputs": [],
   "source": [
    "one_hot_encode_2 = pd.get_dummies(df2[one_hot_cols_2], drop_first=True)"
   ]
  },
  {
   "cell_type": "markdown",
   "id": "3b2bce2c",
   "metadata": {},
   "source": [
    "### Final DataFrame for Modeling"
   ]
  },
  {
   "cell_type": "markdown",
   "id": "19a240a5",
   "metadata": {},
   "source": [
    "Created two final dataframes where df_final corresponds criteria 1 and df_final_2 corresponds to criteria 2"
   ]
  },
  {
   "cell_type": "code",
   "execution_count": 49,
   "id": "c8d98835",
   "metadata": {},
   "outputs": [],
   "source": [
    "df_final = df.drop(one_hot_cols, axis = 1)\n",
    "df_final = pd.concat([df_final, one_hot_encode], axis = 1)"
   ]
  },
  {
   "cell_type": "code",
   "execution_count": 58,
   "id": "3fca3ed2",
   "metadata": {},
   "outputs": [],
   "source": [
    "df_final_2 = df2.drop(one_hot_cols_2, axis = 1)\n",
    "df_final_2 = pd.concat([df_final_2, one_hot_encode_2], axis = 1)"
   ]
  },
  {
   "cell_type": "code",
   "execution_count": 59,
   "id": "603ae675",
   "metadata": {},
   "outputs": [
    {
     "data": {
      "text/plain": [
       "Index(['NEIGHBORHOOD', 'BUILDING CLASS AT PRESENT', 'ADDRESS',\n",
       "       'APARTMENT NUMBER', 'BUILDING CLASS AT TIME OF SALE'],\n",
       "      dtype='object')"
      ]
     },
     "execution_count": 59,
     "metadata": {},
     "output_type": "execute_result"
    }
   ],
   "source": [
    "df_final.select_dtypes(['object']).columns"
   ]
  },
  {
   "cell_type": "code",
   "execution_count": 60,
   "id": "ca5015cf",
   "metadata": {},
   "outputs": [],
   "source": [
    " df_final = df_final.drop(['NEIGHBORHOOD','BUILDING CLASS AT PRESENT','ADDRESS','APARTMENT NUMBER', \\\n",
    "                             'BUILDING CLASS AT TIME OF SALE','SALE DATE'], axis = 1)"
   ]
  },
  {
   "cell_type": "code",
   "execution_count": 61,
   "id": "bc7c90e8",
   "metadata": {},
   "outputs": [
    {
     "data": {
      "text/plain": [
       "Index(['NEIGHBORHOOD', 'ADDRESS', 'APARTMENT NUMBER'], dtype='object')"
      ]
     },
     "execution_count": 61,
     "metadata": {},
     "output_type": "execute_result"
    }
   ],
   "source": [
    "df_final_2.select_dtypes(['object']).columns"
   ]
  },
  {
   "cell_type": "code",
   "execution_count": 62,
   "id": "782ad387",
   "metadata": {},
   "outputs": [],
   "source": [
    " df_final_2 = df_final_2.drop(['NEIGHBORHOOD','ADDRESS','APARTMENT NUMBER','SALE DATE'], axis = 1)"
   ]
  },
  {
   "cell_type": "code",
   "execution_count": 63,
   "id": "1ae07849",
   "metadata": {},
   "outputs": [
    {
     "data": {
      "text/plain": [
       "71"
      ]
     },
     "execution_count": 63,
     "metadata": {},
     "output_type": "execute_result"
    }
   ],
   "source": [
    "len(df_final.columns)"
   ]
  },
  {
   "cell_type": "code",
   "execution_count": 64,
   "id": "c32e5876",
   "metadata": {},
   "outputs": [
    {
     "data": {
      "text/plain": [
       "545"
      ]
     },
     "execution_count": 64,
     "metadata": {},
     "output_type": "execute_result"
    }
   ],
   "source": [
    "len(df_final_2.columns)"
   ]
  },
  {
   "cell_type": "markdown",
   "id": "59bed814",
   "metadata": {},
   "source": [
    "The two dataframes are now ready for modeling. All features are numerical in both dataframes. Dataframe 1 has 70 features and Dataframe 2 has 544 features. "
   ]
  },
  {
   "cell_type": "markdown",
   "id": "79564ed5",
   "metadata": {},
   "source": [
    "The same models will be run on both dataframes and the normalized root mean square error will be used as the model evaluation metric to compare the two one hot encoding methodologies. If the normalized root mean square errror does not decrease significantly in the more complicated model (544 features), the simpler model will be chosen due to the complexity-accuracy trade off. \\\n",
    "**Ideally, we want the simplest model that is the most accurate**"
   ]
  },
  {
   "cell_type": "markdown",
   "id": "99ec6ad7",
   "metadata": {},
   "source": [
    "### Modeling"
   ]
  },
  {
   "cell_type": "markdown",
   "id": "00b1f70f",
   "metadata": {},
   "source": [
    "First, we form our feature matrix and our label vector and split the data into a train, test split. Here, we are spltting the data 70/30 and specifying a random state to ensure reproducability of results."
   ]
  },
  {
   "cell_type": "markdown",
   "id": "67662d96",
   "metadata": {},
   "source": [
    "**Criteria 1:** Model has 70 features. Will be referred to as Simple Model \\\n",
    "**Critera 2:** Model has 544 features. Will be referred to as Complex Model"
   ]
  },
  {
   "cell_type": "code",
   "execution_count": 65,
   "id": "054e7156",
   "metadata": {},
   "outputs": [],
   "source": [
    "from sklearn.model_selection import train_test_split\n",
    "from sklearn.preprocessing import StandardScaler\n",
    "from sklearn.preprocessing import MinMaxScaler"
   ]
  },
  {
   "cell_type": "code",
   "execution_count": 66,
   "id": "2f757aaa",
   "metadata": {},
   "outputs": [],
   "source": [
    "X = df_final.drop(['SALE PRICE'],axis=1)\n",
    "y = df_final['SALE PRICE']\n",
    "\n",
    "X2 = df_final_2.drop(['SALE PRICE'], axis=1)\n",
    "y2 = df_final_2['SALE PRICE']"
   ]
  },
  {
   "cell_type": "code",
   "execution_count": 67,
   "id": "4a68e116",
   "metadata": {},
   "outputs": [],
   "source": [
    "X_train, X_test, y_train, y_test = train_test_split(X, y, test_size=0.30, random_state=42)\n",
    "X_train_2, X_test_2, y_train_2, y_test_2 = train_test_split(X2, y2, test_size=0.30, random_state=42)"
   ]
  },
  {
   "cell_type": "markdown",
   "id": "17bdb602",
   "metadata": {},
   "source": [
    "For the complex model, the features are first normalized"
   ]
  },
  {
   "cell_type": "code",
   "execution_count": 68,
   "id": "06708dd5",
   "metadata": {},
   "outputs": [],
   "source": [
    "scaler = StandardScaler()\n",
    "X_train_2 = scaler.fit_transform(X_train_2)\n",
    "X_test_2 = scaler.transform(X_test_2)"
   ]
  },
  {
   "cell_type": "markdown",
   "id": "e59bc47b",
   "metadata": {},
   "source": [
    "Next, PCA will be applied to reduce the dimensionality of the complex model. As it stands, the complex model has 544 features. We want to reduce the dimensionality while at least explaining 80% of the total variance. "
   ]
  },
  {
   "cell_type": "code",
   "execution_count": 80,
   "id": "ee80a3ad",
   "metadata": {},
   "outputs": [
    {
     "data": {
      "text/plain": [
       "(0.0, 100.0)"
      ]
     },
     "execution_count": 80,
     "metadata": {},
     "output_type": "execute_result"
    },
    {
     "data": {
      "image/png": "[encoded data removed]",
      "text/plain": [
       "<Figure size 432x288 with 1 Axes>"
      ]
     },
     "metadata": {},
     "output_type": "display_data"
    }
   ],
   "source": [
    "from sklearn.decomposition import PCA\n",
    "pca = PCA(n_components=205)\n",
    "principalComponents = pca.fit(X_train_2)\n",
    "\n",
    "variance = principalComponents.explained_variance_ratio_\n",
    "var = np.cumsum(np.round(variance, decimals=3)*100)\n",
    "\n",
    "plt.plot(var)\n",
    "plt.title(\"PCA Analysis\")\n",
    "plt.ylabel(' Percentage of Total Variance Explained')\n",
    "plt.xlabel(' No. of Features')\n",
    "plt.ylim(0,100)"
   ]
  },
  {
   "cell_type": "markdown",
   "id": "4ab1e186",
   "metadata": {},
   "source": [
    "Apply the mapping to both the training set and the test set. Dimensionality was reduced from 544 features to 205 features while retaining 80% of the total variance."
   ]
  },
  {
   "cell_type": "code",
   "execution_count": 82,
   "id": "df27f54c",
   "metadata": {},
   "outputs": [],
   "source": [
    "pca.fit(X_train_2)\n",
    "X_train_2 = pca.transform(X_train_2)\n",
    "X_test_2 = pca.transform(X_test_2)"
   ]
  },
  {
   "cell_type": "code",
   "execution_count": 83,
   "id": "fb17f9fc",
   "metadata": {},
   "outputs": [
    {
     "data": {
      "text/plain": [
       "((37921, 70), (37921,))"
      ]
     },
     "execution_count": 83,
     "metadata": {},
     "output_type": "execute_result"
    }
   ],
   "source": [
    "X_train.shape, y_train.shape"
   ]
  },
  {
   "cell_type": "code",
   "execution_count": 84,
   "id": "992c3470",
   "metadata": {},
   "outputs": [
    {
     "data": {
      "text/plain": [
       "((16253, 70), (16253,))"
      ]
     },
     "execution_count": 84,
     "metadata": {},
     "output_type": "execute_result"
    }
   ],
   "source": [
    "X_test.shape, y_test.shape"
   ]
  },
  {
   "cell_type": "code",
   "execution_count": 85,
   "id": "7b499510",
   "metadata": {},
   "outputs": [
    {
     "data": {
      "text/plain": [
       "((37921, 205), (37921,))"
      ]
     },
     "execution_count": 85,
     "metadata": {},
     "output_type": "execute_result"
    }
   ],
   "source": [
    "X_train_2.shape, y_train_2.shape"
   ]
  },
  {
   "cell_type": "code",
   "execution_count": 86,
   "id": "e5bc7a62",
   "metadata": {},
   "outputs": [
    {
     "data": {
      "text/plain": [
       "((16253, 205), (16253,))"
      ]
     },
     "execution_count": 86,
     "metadata": {},
     "output_type": "execute_result"
    }
   ],
   "source": [
    "X_test_2.shape, y_test_2.shape"
   ]
  },
  {
   "cell_type": "code",
   "execution_count": 87,
   "id": "51a04f95",
   "metadata": {},
   "outputs": [],
   "source": [
    "from sklearn.metrics import mean_squared_error\n",
    "from math import sqrt\n",
    "\n",
    "# Define a function to compute the root mean squared error \n",
    "def RMSE(y_test, y_pred):    \n",
    "    return sqrt(mean_squared_error(y_test,y_pred))"
   ]
  },
  {
   "cell_type": "markdown",
   "id": "d5df7bda",
   "metadata": {},
   "source": [
    "#### Linear Regression"
   ]
  },
  {
   "cell_type": "code",
   "execution_count": 88,
   "id": "61f7a1ce",
   "metadata": {},
   "outputs": [
    {
     "name": "stdout",
     "output_type": "stream",
     "text": [
      "Simple Model\n",
      "Train RMSE: 2.652164709669631\n",
      "Test RMSE: 2.983964825826293\n",
      "\n",
      "Complex Model\n",
      "Train RMSE: 2.507358152136674\n",
      "Test RMSE: 2.8044888400987857\n"
     ]
    }
   ],
   "source": [
    "from sklearn import linear_model\n",
    "\n",
    "linreg_m = linear_model.LinearRegression()\n",
    "linreg_m2 = linear_model.LinearRegression()\n",
    "linreg_m.fit(X_train, y_train)\n",
    "linreg_m2.fit(X_train_2, y_train_2)\n",
    "\n",
    "y_pred_linreg = linreg_m.predict(X_test)\n",
    "y_pred_train_linreg = linreg_m.predict(X_train)\n",
    "\n",
    "y_pred_linreg_2 = linreg_m2.predict(X_test_2)\n",
    "y_pred_train_linreg_2 = linreg_m2.predict(X_train_2)\n",
    "\n",
    "NRMSE_linreg_train = RMSE(y_train, y_pred_train_linreg) / y_train.mean()\n",
    "NRMSE_linreg = RMSE(y_test, y_pred_linreg) / y_test.mean()\n",
    "\n",
    "NRMSE_linreg_train_2 = RMSE(y_train_2, y_pred_train_linreg_2) / y_train_2.mean()\n",
    "NRMSE_linreg_2 = RMSE(y_test_2, y_pred_linreg_2) / y_test_2.mean()\n",
    "\n",
    "print(\"Simple Model\")\n",
    "print(f\"Train RMSE: {NRMSE_linreg_train}\")\n",
    "print(f\"Test RMSE: {NRMSE_linreg}\")\n",
    "print()\n",
    "print(\"Complex Model\")\n",
    "print(f\"Train RMSE: {NRMSE_linreg_train_2}\")\n",
    "print(f\"Test RMSE: {NRMSE_linreg_2}\")\n"
   ]
  },
  {
   "cell_type": "markdown",
   "id": "e1083bb9",
   "metadata": {},
   "source": [
    "#### Random Forest Regressor"
   ]
  },
  {
   "cell_type": "code",
   "execution_count": 89,
   "id": "06d43d18",
   "metadata": {},
   "outputs": [],
   "source": [
    "from sklearn.ensemble import RandomForestRegressor\n",
    "rforest_m = RandomForestRegressor()\n",
    "rforest_m2 = RandomForestRegressor()"
   ]
  },
  {
   "cell_type": "code",
   "execution_count": 90,
   "id": "4a6f7c19",
   "metadata": {},
   "outputs": [],
   "source": [
    "rforest_m.fit(X_train, y_train)\n",
    "rforest_m2.fit(X_train_2, y_train_2)\n",
    "\n",
    "y_pred_rforest = rforest_m.predict(X_test)\n",
    "y_pred_train_rforest = rforest_m.predict(X_train)\n",
    "\n",
    "y_pred_rforest_2 = rforest_m2.predict(X_test_2)\n",
    "y_pred_train_rforest_2 = rforest_m2.predict(X_train_2)"
   ]
  },
  {
   "cell_type": "code",
   "execution_count": 91,
   "id": "a3eb37cb",
   "metadata": {},
   "outputs": [
    {
     "data": {
      "text/plain": [
       "{'bootstrap': True,\n",
       " 'ccp_alpha': 0.0,\n",
       " 'criterion': 'mse',\n",
       " 'max_depth': None,\n",
       " 'max_features': 'auto',\n",
       " 'max_leaf_nodes': None,\n",
       " 'max_samples': None,\n",
       " 'min_impurity_decrease': 0.0,\n",
       " 'min_impurity_split': None,\n",
       " 'min_samples_leaf': 1,\n",
       " 'min_samples_split': 2,\n",
       " 'min_weight_fraction_leaf': 0.0,\n",
       " 'n_estimators': 100,\n",
       " 'n_jobs': None,\n",
       " 'oob_score': False,\n",
       " 'random_state': None,\n",
       " 'verbose': 0,\n",
       " 'warm_start': False}"
      ]
     },
     "execution_count": 91,
     "metadata": {},
     "output_type": "execute_result"
    }
   ],
   "source": [
    "rforest_m.get_params()"
   ]
  },
  {
   "cell_type": "code",
   "execution_count": 92,
   "id": "f9e2a368",
   "metadata": {},
   "outputs": [
    {
     "name": "stdout",
     "output_type": "stream",
     "text": [
      "Simple Model\n",
      "Train RMSE: 0.8753913079424854\n",
      "Test RMSE: 2.1274942590689063\n",
      "\n",
      "Complex Model\n",
      "Train RMSE: 0.9510970928137537\n",
      "Test RMSE: 2.3798920123918856\n"
     ]
    }
   ],
   "source": [
    "NRMSE_rforest_train = RMSE(y_train,y_pred_train_rforest) / y_train.mean()\n",
    "NRMSE_rforest = RMSE(y_test,y_pred_rforest) / y_test.mean()\n",
    "\n",
    "NRMSE_rforest_train_2 = RMSE(y_train_2,y_pred_train_rforest_2) / y_train_2.mean()\n",
    "NRMSE_rforest_2 = RMSE(y_test_2,y_pred_rforest_2) / y_test_2.mean()\n",
    "\n",
    "print(\"Simple Model\")\n",
    "print(f\"Train RMSE: {NRMSE_rforest_train}\")\n",
    "print(f\"Test RMSE: {NRMSE_rforest}\")\n",
    "print()\n",
    "print(\"Complex Model\")\n",
    "print(f\"Train RMSE: {NRMSE_rforest_train_2}\")\n",
    "print(f\"Test RMSE: {NRMSE_rforest_2}\")"
   ]
  },
  {
   "cell_type": "markdown",
   "id": "d44c8808",
   "metadata": {},
   "source": [
    "The simpler model outperforms the complex model when a random forest regressor model is used"
   ]
  },
  {
   "cell_type": "code",
   "execution_count": null,
   "id": "2eb9096c",
   "metadata": {},
   "outputs": [],
   "source": [
    "# from sklearn.model_selection import GridSearchCV\n",
    "# parameters = {\n",
    "#      'n_estimators':(20,60,100), #the number of trees\n",
    "#      'max_depth':(20,30,50)\n",
    "# }\n",
    "\n",
    "# model = GridSearchCV(RandomForestRegressor(),parameters,cv=3)\n",
    "# model.fit(X_train, y_train)\n",
    "# model.best_score_, model.best_params_"
   ]
  },
  {
   "cell_type": "code",
   "execution_count": null,
   "id": "f7cb0fb1",
   "metadata": {},
   "outputs": [],
   "source": [
    "# rforest_m_best = RandomForestRegressor(max_depth=30, n_estimators=100)\n",
    "# rforest_m_best.fit(X_train, y_train)\n",
    "# y_pred_rforest_best = rforest_m_best.predict(X_test)\n",
    "# y_pred_train_rforest_best = rforest_m_best.predict(X_train)"
   ]
  },
  {
   "cell_type": "code",
   "execution_count": null,
   "id": "f53fdf78",
   "metadata": {},
   "outputs": [],
   "source": [
    "# NRMSE_rforest_train_best = RMSE(y_train,y_pred_train_rforest_best) / y_train.mean()\n",
    "# NRMSE_rforest_best = RMSE(y_test,y_pred_rforest_best) / y_test.mean()\n",
    "# print(f\"Train RMSE: {NRMSE_rforest_train_best}\")\n",
    "# print(f\"Test RMSE: {NRMSE_rforest_best}\")"
   ]
  },
  {
   "cell_type": "code",
   "execution_count": 93,
   "id": "9a90b1cb",
   "metadata": {},
   "outputs": [
    {
     "name": "stdout",
     "output_type": "stream",
     "text": [
      "Percentage improvement in terms of RMSE when comparing the Random Forest Regressor model to the Linear Regression Model:\n",
      "Simple Model: 28.7% \n",
      "Complex Model: 21.54%\n"
     ]
    }
   ],
   "source": [
    "print(f\"Percentage improvement in terms of RMSE when comparing the Random Forest Regressor model to the \\\n",
    "Linear Regression Model:\\nSimple Model: {round((NRMSE_linreg - NRMSE_rforest) / (NRMSE_linreg)* 100,2)}% \\\n",
    "\\nComplex Model: {round((NRMSE_linreg - NRMSE_rforest_2) / (NRMSE_linreg_2)* 100,2)}%\")"
   ]
  },
  {
   "cell_type": "markdown",
   "id": "97ca7970",
   "metadata": {},
   "source": [
    "Let's look at the seven most important features for this model. (Simple Model)"
   ]
  },
  {
   "cell_type": "code",
   "execution_count": 94,
   "id": "ecd05191",
   "metadata": {},
   "outputs": [
    {
     "data": {
      "text/plain": [
       "Text(0.5, 0, 'Relative Importance')"
      ]
     },
     "execution_count": 94,
     "metadata": {},
     "output_type": "execute_result"
    },
    {
     "data": {
      "image/png": "[encoded data removed]",
      "text/plain": [
       "<Figure size 432x288 with 1 Axes>"
      ]
     },
     "metadata": {
      "needs_background": "light"
     },
     "output_type": "display_data"
    }
   ],
   "source": [
    "import matplotlib.pyplot as plt\n",
    "feature_names = [key for key in df_final if not key == 9]\n",
    "%matplotlib inline\n",
    "importances = rforest_m.feature_importances_\n",
    "indices = np.argsort(importances)[-7:]\n",
    "plt.figure(figsize=(6,4))\n",
    "plt.title('Seven Most Important Features')\n",
    "plt.barh(range(len(indices)), importances[indices], color='b', align='center')\n",
    "# plt.yticks(range(len(indices)),feature_names)\n",
    "plt.yticks(range(len(indices)),np.array(feature_names)[indices])\n",
    "plt.xlabel('Relative Importance')"
   ]
  },
  {
   "cell_type": "markdown",
   "id": "45d034d9",
   "metadata": {},
   "source": [
    "#### Neural Network"
   ]
  },
  {
   "cell_type": "markdown",
   "id": "fb554ecf",
   "metadata": {},
   "source": [
    "The data was first normalized to improve training time"
   ]
  },
  {
   "cell_type": "code",
   "execution_count": 105,
   "id": "ab4c0f7f",
   "metadata": {},
   "outputs": [],
   "source": [
    "import tensorflow as tf\n",
    "from tensorflow.keras.models import Sequential\n",
    "from tensorflow.keras.layers import Dense, Activation,Dropout\n",
    "from tensorflow.keras.constraints import max_norm\n",
    "\n",
    "\n",
    "scaler = MinMaxScaler()\n",
    "X_train = scaler.fit_transform(X_train)\n",
    "X_test = scaler.transform(X_test)"
   ]
  },
  {
   "cell_type": "markdown",
   "id": "4f66fe1e",
   "metadata": {},
   "source": [
    "A two hidden layer sequential neural network, where the following methodology was used to determine the number of neurons in the hidden layers. This methodology was derived from basic neural network modeling principles: \n",
    "- The first hidden layer has ((# of neurons in input layer + # of neurons in output layer) / 2) number of neruons\n",
    "- The second hidden layer has half the first layer's number of neurons"
   ]
  },
  {
   "cell_type": "code",
   "execution_count": 106,
   "id": "7f2cc146",
   "metadata": {},
   "outputs": [],
   "source": [
    "model = Sequential()\n",
    "\n",
    "# input layer\n",
    "model.add(Dense(70,  activation='relu'))\n",
    "model.add(Dropout(0.2))\n",
    "\n",
    "# hidden layer\n",
    "model.add(Dense(36, activation='relu'))\n",
    "model.add(Dropout(0.2))\n",
    "\n",
    "# hidden layer\n",
    "model.add(Dense(18, activation='relu'))\n",
    "model.add(Dropout(0.2))\n",
    "\n",
    "# output layer\n",
    "model.add(Dense(units=1,activation='relu'))\n",
    "\n",
    "# Compile model\n",
    "model.compile(loss='mean_squared_error', optimizer='adam')"
   ]
  },
  {
   "cell_type": "code",
   "execution_count": 98,
   "id": "513f2b85",
   "metadata": {},
   "outputs": [],
   "source": [
    "model2 = Sequential()\n",
    "\n",
    "# input layer\n",
    "model2.add(Dense(205,  activation='relu'))\n",
    "model2.add(Dropout(0.2))\n",
    "\n",
    "# hidden layer\n",
    "model2.add(Dense(103, activation='relu'))\n",
    "model2.add(Dropout(0.2))\n",
    "\n",
    "# hidden layer\n",
    "model2.add(Dense(52, activation='relu'))\n",
    "model2.add(Dropout(0.2))\n",
    "\n",
    "# output layer\n",
    "model2.add(Dense(units=1,activation='relu'))\n",
    "\n",
    "# Compile model\n",
    "model2.compile(loss='mean_squared_error', optimizer='adam')"
   ]
  },
  {
   "cell_type": "code",
   "execution_count": 107,
   "id": "2d017a9e",
   "metadata": {},
   "outputs": [
    {
     "name": "stdout",
     "output_type": "stream",
     "text": [
      "Epoch 1/100\n",
      "1186/1186 [==============================] - 2s 1ms/step - loss: 16498911065992.9512 - val_loss: 23025906876416.0000\n",
      "Epoch 2/100\n",
      "1186/1186 [==============================] - 1s 1ms/step - loss: 24671048380992.2695 - val_loss: 22601648832512.0000\n",
      "Epoch 3/100\n",
      "1186/1186 [==============================] - 1s 1ms/step - loss: 17448091785476.5293 - val_loss: 22304207667200.0000\n",
      "Epoch 4/100\n",
      "1186/1186 [==============================] - 1s 1ms/step - loss: 19456352608469.9453 - val_loss: 22028883066880.0000\n",
      "Epoch 5/100\n",
      "1186/1186 [==============================] - 1s 1ms/step - loss: 21837004287030.3477 - val_loss: 21761349386240.0000\n",
      "Epoch 6/100\n",
      "1186/1186 [==============================] - 1s 1ms/step - loss: 17196841717156.1250 - val_loss: 21456255713280.0000\n",
      "Epoch 7/100\n",
      "1186/1186 [==============================] - 1s 1ms/step - loss: 19849203964730.4453 - val_loss: 21190764658688.0000\n",
      "Epoch 8/100\n",
      "1186/1186 [==============================] - 1s 1ms/step - loss: 17063331753221.3926 - val_loss: 20904648114176.0000\n",
      "Epoch 9/100\n",
      "1186/1186 [==============================] - 1s 1ms/step - loss: 17385403439185.0918 - val_loss: 20632165154816.0000\n",
      "Epoch 10/100\n",
      "1186/1186 [==============================] - 2s 1ms/step - loss: 18725287509422.4766 - val_loss: 20360378449920.0000\n",
      "Epoch 11/100\n",
      "1186/1186 [==============================] - 1s 1ms/step - loss: 17738735150788.2578 - val_loss: 20114309120000.0000\n",
      "Epoch 12/100\n",
      "1186/1186 [==============================] - 1s 1ms/step - loss: 14477584743385.1797 - val_loss: 19855080161280.0000\n",
      "Epoch 13/100\n",
      "1186/1186 [==============================] - 1s 1ms/step - loss: 17127551837933.6680 - val_loss: 19632266149888.0000\n",
      "Epoch 14/100\n",
      "1186/1186 [==============================] - 1s 1ms/step - loss: 17748699373257.4375 - val_loss: 19422559338496.0000\n",
      "Epoch 15/100\n",
      "1186/1186 [==============================] - 1s 1ms/step - loss: 13803812141820.3340 - val_loss: 19220276445184.0000\n",
      "Epoch 16/100\n",
      "1186/1186 [==============================] - 1s 1ms/step - loss: 15936061734608.3379 - val_loss: 19062539157504.0000\n",
      "Epoch 17/100\n",
      "1186/1186 [==============================] - 1s 1ms/step - loss: 18409019876577.1602 - val_loss: 18898147606528.0000\n",
      "Epoch 18/100\n",
      "1186/1186 [==============================] - 1s 1ms/step - loss: 18019053500172.7227 - val_loss: 18737027612672.0000\n",
      "Epoch 19/100\n",
      "1186/1186 [==============================] - 1s 1ms/step - loss: 15690816095146.5957 - val_loss: 18558526423040.0000\n",
      "Epoch 20/100\n",
      "1186/1186 [==============================] - 1s 1ms/step - loss: 14804913468713.6250 - val_loss: 18428119220224.0000\n",
      "Epoch 21/100\n",
      "1186/1186 [==============================] - 2s 1ms/step - loss: 16292234780582.2812 - val_loss: 18284497862656.0000\n",
      "Epoch 22/100\n",
      "1186/1186 [==============================] - 1s 1ms/step - loss: 18198735423041.1328 - val_loss: 18152276623360.0000\n",
      "Epoch 23/100\n",
      "1186/1186 [==============================] - 1s 1ms/step - loss: 18051277298945.9414 - val_loss: 18022873956352.0000\n",
      "Epoch 24/100\n",
      "1186/1186 [==============================] - 1s 1ms/step - loss: 14106198143262.4102 - val_loss: 17885252550656.0000\n",
      "Epoch 25/100\n",
      "1186/1186 [==============================] - 1s 1ms/step - loss: 15033152335689.1113 - val_loss: 17798986203136.0000\n",
      "Epoch 26/100\n",
      "1186/1186 [==============================] - 1s 1ms/step - loss: 15823491834608.2559 - val_loss: 17681161912320.0000\n",
      "Epoch 27/100\n",
      "1186/1186 [==============================] - 1s 1ms/step - loss: 15061864765383.0625 - val_loss: 17600757104640.0000\n",
      "Epoch 28/100\n",
      "1186/1186 [==============================] - 1s 1ms/step - loss: 13461899314532.2871 - val_loss: 17501711761408.0000\n",
      "Epoch 29/100\n",
      "1186/1186 [==============================] - 1s 1ms/step - loss: 14607490172991.8379 - val_loss: 17413013766144.0000\n",
      "Epoch 30/100\n",
      "1186/1186 [==============================] - 1s 1ms/step - loss: 14571700710302.5176 - val_loss: 17342068162560.0000\n",
      "Epoch 31/100\n",
      "1186/1186 [==============================] - 1s 1ms/step - loss: 12271129727407.3398 - val_loss: 17250585149440.0000\n",
      "Epoch 32/100\n",
      "1186/1186 [==============================] - 1s 1ms/step - loss: 17503237213783.5625 - val_loss: 17208998625280.0000\n",
      "Epoch 33/100\n",
      "1186/1186 [==============================] - 1s 1ms/step - loss: 14543421870097.2539 - val_loss: 17166301659136.0000\n",
      "Epoch 34/100\n",
      "1186/1186 [==============================] - 1s 1ms/step - loss: 12318149319634.2773 - val_loss: 17090911141888.0000\n",
      "Epoch 35/100\n",
      "1186/1186 [==============================] - 1s 1ms/step - loss: 14248266581251.6660 - val_loss: 17070304526336.0000\n",
      "Epoch 36/100\n",
      "1186/1186 [==============================] - 1s 1ms/step - loss: 15347877106329.9883 - val_loss: 17018556252160.0000\n",
      "Epoch 37/100\n",
      "1186/1186 [==============================] - 1s 1ms/step - loss: 15311397477454.5039 - val_loss: 16976282910720.0000\n",
      "Epoch 38/100\n",
      "1186/1186 [==============================] - 1s 1ms/step - loss: 14041397967722.7559 - val_loss: 16946012618752.0000\n",
      "Epoch 39/100\n",
      "1186/1186 [==============================] - 1s 1ms/step - loss: 17204685961276.3867 - val_loss: 16934842138624.0000\n",
      "Epoch 40/100\n",
      "1186/1186 [==============================] - 1s 1ms/step - loss: 13642815028682.0820 - val_loss: 16897603010560.0000\n",
      "Epoch 41/100\n",
      "1186/1186 [==============================] - 1s 1ms/step - loss: 12894419445747.9219 - val_loss: 16885051555840.0000\n",
      "Epoch 42/100\n",
      "1186/1186 [==============================] - 1s 1ms/step - loss: 13208102968384.7012 - val_loss: 16843575132160.0000\n",
      "Epoch 43/100\n",
      "1186/1186 [==============================] - 1s 1ms/step - loss: 15234852613685.0547 - val_loss: 16845323108352.0000\n",
      "Epoch 44/100\n",
      "1186/1186 [==============================] - 1s 1ms/step - loss: 13231586802828.6172 - val_loss: 16816359342080.0000\n",
      "Epoch 45/100\n",
      "1186/1186 [==============================] - 1s 1ms/step - loss: 14736836207620.3125 - val_loss: 16807497826304.0000\n",
      "Epoch 46/100\n",
      "1186/1186 [==============================] - 1s 1ms/step - loss: 11982951414041.2324 - val_loss: 16772927324160.0000\n",
      "Epoch 47/100\n",
      "1186/1186 [==============================] - 1s 1ms/step - loss: 14826830463224.4512 - val_loss: 16771282108416.0000\n",
      "Epoch 48/100\n",
      "1186/1186 [==============================] - 1s 1ms/step - loss: 13753605311356.0098 - val_loss: 16785018454016.0000\n",
      "Epoch 49/100\n",
      "1186/1186 [==============================] - 1s 1ms/step - loss: 19245224119440.0664 - val_loss: 16758099410944.0000\n",
      "Epoch 50/100\n",
      "1186/1186 [==============================] - 1s 1ms/step - loss: 13247980931039.2188 - val_loss: 16759164764160.0000\n",
      "Epoch 51/100\n",
      "1186/1186 [==============================] - 1s 1ms/step - loss: 12109109321362.2246 - val_loss: 16725414248448.0000\n",
      "Epoch 52/100\n",
      "1186/1186 [==============================] - 1s 1ms/step - loss: 12946521416114.7910 - val_loss: 16733621452800.0000\n",
      "Epoch 53/100\n",
      "1186/1186 [==============================] - 1s 1ms/step - loss: 13096824097107.8965 - val_loss: 16716152176640.0000\n",
      "Epoch 54/100\n",
      "1186/1186 [==============================] - 1s 1ms/step - loss: 13447975312200.2500 - val_loss: 16726012985344.0000\n",
      "Epoch 55/100\n",
      "1186/1186 [==============================] - 1s 1ms/step - loss: 15848784195207.8711 - val_loss: 16681959161856.0000\n",
      "Epoch 56/100\n",
      "1186/1186 [==============================] - 1s 1ms/step - loss: 12779742412951.8320 - val_loss: 16665516441600.0000\n",
      "Epoch 57/100\n",
      "1186/1186 [==============================] - 2s 1ms/step - loss: 13789692237918.8945 - val_loss: 16668768075776.0000\n",
      "Epoch 58/100\n",
      "1186/1186 [==============================] - 2s 1ms/step - loss: 13731883446227.1406 - val_loss: 16674986131456.0000\n",
      "Epoch 59/100\n",
      "1186/1186 [==============================] - 1s 1ms/step - loss: 15242723111239.8184 - val_loss: 16655283388416.0000\n",
      "Epoch 60/100\n",
      "1186/1186 [==============================] - 1s 1ms/step - loss: 14846385160053.9707 - val_loss: 16656822697984.0000\n",
      "Epoch 61/100\n",
      "1186/1186 [==============================] - 1s 1ms/step - loss: 14980419744582.5234 - val_loss: 16629144485888.0000\n",
      "Epoch 62/100\n",
      "1186/1186 [==============================] - 1s 1ms/step - loss: 10458037987771.4180 - val_loss: 16601239781376.0000\n",
      "Epoch 63/100\n",
      "1186/1186 [==============================] - 1s 1ms/step - loss: 12548664651841.5645 - val_loss: 16585824665600.0000\n",
      "Epoch 64/100\n"
     ]
    },
    {
     "name": "stdout",
     "output_type": "stream",
     "text": [
      "1186/1186 [==============================] - 1s 1ms/step - loss: 14515508860070.4961 - val_loss: 16592083615744.0000\n",
      "Epoch 65/100\n",
      "1186/1186 [==============================] - 1s 1ms/step - loss: 12441714360927.3262 - val_loss: 16570911817728.0000\n",
      "Epoch 66/100\n",
      "1186/1186 [==============================] - 1s 1ms/step - loss: 14304417167378.9785 - val_loss: 16576382238720.0000\n",
      "Epoch 67/100\n",
      "1186/1186 [==============================] - 1s 1ms/step - loss: 14432989791629.6953 - val_loss: 16562717196288.0000\n",
      "Epoch 68/100\n",
      "1186/1186 [==============================] - 1s 1ms/step - loss: 12836117204139.6738 - val_loss: 16553097560064.0000\n",
      "Epoch 69/100\n",
      "1186/1186 [==============================] - 1s 1ms/step - loss: 14347745307702.3496 - val_loss: 16546044837888.0000\n",
      "Epoch 70/100\n",
      "1186/1186 [==============================] - 1s 1ms/step - loss: 15789098094208.9707 - val_loss: 16557593853952.0000\n",
      "Epoch 71/100\n",
      "1186/1186 [==============================] - 1s 1ms/step - loss: 12584838881852.8184 - val_loss: 16535382917120.0000\n",
      "Epoch 72/100\n",
      "1186/1186 [==============================] - 1s 1ms/step - loss: 13299771534956.2656 - val_loss: 16543988580352.0000\n",
      "Epoch 73/100\n",
      "1186/1186 [==============================] - 1s 1ms/step - loss: 13416779604761.6641 - val_loss: 16545759625216.0000\n",
      "Epoch 74/100\n",
      "1186/1186 [==============================] - 1s 1ms/step - loss: 13700342075699.1133 - val_loss: 16529273913344.0000\n",
      "Epoch 75/100\n",
      "1186/1186 [==============================] - 1s 1ms/step - loss: 12925142701898.8379 - val_loss: 16508070658048.0000\n",
      "Epoch 76/100\n",
      "1186/1186 [==============================] - 1s 1ms/step - loss: 12163132349987.8008 - val_loss: 16506292273152.0000\n",
      "Epoch 77/100\n",
      "1186/1186 [==============================] - 1s 1ms/step - loss: 14520127154771.2480 - val_loss: 16517670371328.0000\n",
      "Epoch 78/100\n",
      "1186/1186 [==============================] - 1s 1ms/step - loss: 14956632963767.3184 - val_loss: 16521836363776.0000\n",
      "Epoch 79/100\n",
      "1186/1186 [==============================] - 1s 1ms/step - loss: 14052161232654.4492 - val_loss: 16525992919040.0000\n",
      "Epoch 80/100\n",
      "1186/1186 [==============================] - 1s 1ms/step - loss: 12841312785257.0312 - val_loss: 16505540444160.0000\n",
      "Epoch 81/100\n",
      "1186/1186 [==============================] - 1s 1ms/step - loss: 14144589298193.6855 - val_loss: 16514570780672.0000\n",
      "Epoch 82/100\n",
      "1186/1186 [==============================] - 1s 1ms/step - loss: 12558288412803.1270 - val_loss: 16515233480704.0000\n",
      "Epoch 83/100\n",
      "1186/1186 [==============================] - 1s 1ms/step - loss: 13103880324107.2148 - val_loss: 16510004232192.0000\n",
      "Epoch 84/100\n",
      "1186/1186 [==============================] - 1s 1ms/step - loss: 13543460029451.2148 - val_loss: 16509510352896.0000\n",
      "Epoch 85/100\n",
      "1186/1186 [==============================] - 1s 1ms/step - loss: 13236369038511.1230 - val_loss: 16515707437056.0000\n",
      "Epoch 86/100\n",
      "1186/1186 [==============================] - 1s 1ms/step - loss: 13271322956069.3105 - val_loss: 16521674883072.0000\n",
      "Epoch 87/100\n",
      "1186/1186 [==============================] - 1s 1ms/step - loss: 11608283151058.9258 - val_loss: 16508362162176.0000\n",
      "Epoch 88/100\n",
      "1186/1186 [==============================] - 1s 1ms/step - loss: 14351757357908.3262 - val_loss: 16537577586688.0000\n",
      "Epoch 89/100\n",
      "1186/1186 [==============================] - 1s 1ms/step - loss: 15629075656258.8574 - val_loss: 16538414350336.0000\n",
      "Epoch 90/100\n",
      "1186/1186 [==============================] - 1s 1ms/step - loss: 12258376770854.1738 - val_loss: 16516635426816.0000\n",
      "Epoch 91/100\n",
      "1186/1186 [==============================] - 1s 1ms/step - loss: 14622228094624.0273 - val_loss: 16533019426816.0000\n",
      "Epoch 92/100\n",
      "1186/1186 [==============================] - 2s 1ms/step - loss: 15324489287150.3145 - val_loss: 16532059979776.0000\n",
      "Epoch 93/100\n",
      "1186/1186 [==============================] - 1s 1ms/step - loss: 13022274881779.2754 - val_loss: 16541469900800.0000\n",
      "Epoch 94/100\n",
      "1186/1186 [==============================] - 1s 1ms/step - loss: 13570481317848.3164 - val_loss: 16539513257984.0000\n",
      "Epoch 95/100\n",
      "1186/1186 [==============================] - 1s 1ms/step - loss: 13075336817732.1523 - val_loss: 16542320295936.0000\n",
      "Epoch 96/100\n",
      "1186/1186 [==============================] - 1s 1ms/step - loss: 11075488261759.2461 - val_loss: 16537728581632.0000\n",
      "Epoch 97/100\n",
      "1186/1186 [==============================] - 1s 1ms/step - loss: 13456880309097.0312 - val_loss: 16543835488256.0000\n",
      "Epoch 98/100\n",
      "1186/1186 [==============================] - 1s 1ms/step - loss: 12955128526328.6680 - val_loss: 16537565003776.0000\n",
      "Epoch 99/100\n",
      "1186/1186 [==============================] - 1s 1ms/step - loss: 13852437788304.4980 - val_loss: 16546914107392.0000\n",
      "Epoch 100/100\n",
      "1186/1186 [==============================] - 2s 2ms/step - loss: 13747421597754.6621 - val_loss: 16554708172800.0000\n"
     ]
    },
    {
     "data": {
      "text/plain": [
       "<tensorflow.python.keras.callbacks.History at 0x21eebb49ca0>"
      ]
     },
     "execution_count": 107,
     "metadata": {},
     "output_type": "execute_result"
    }
   ],
   "source": [
    "model.fit(x=X_train, \n",
    "          y=y_train, \n",
    "          epochs=100,\n",
    "          validation_data=(X_test, y_test), \n",
    "          )"
   ]
  },
  {
   "cell_type": "code",
   "execution_count": 109,
   "id": "dd43fb93",
   "metadata": {
    "scrolled": true
   },
   "outputs": [
    {
     "name": "stdout",
     "output_type": "stream",
     "text": [
      "Epoch 1/20\n",
      "1186/1186 [==============================] - 3s 2ms/step - loss: 10024152727552.0000 - val_loss: 15102465015808.0000\n",
      "Epoch 2/20\n",
      "1186/1186 [==============================] - 3s 2ms/step - loss: 10048950501376.0000 - val_loss: 15120260399104.0000\n",
      "Epoch 3/20\n",
      "1186/1186 [==============================] - 3s 2ms/step - loss: 10128757620736.0000 - val_loss: 15311749251072.0000\n",
      "Epoch 4/20\n",
      "1186/1186 [==============================] - 3s 2ms/step - loss: 10033888755712.0000 - val_loss: 15485217275904.0000\n",
      "Epoch 5/20\n",
      "1186/1186 [==============================] - 3s 2ms/step - loss: 10095819751424.0000 - val_loss: 15378972409856.0000: 0s - loss: 100878495\n",
      "Epoch 6/20\n",
      "1186/1186 [==============================] - 3s 2ms/step - loss: 9982368022528.0000 - val_loss: 15714595373056.0000\n",
      "Epoch 7/20\n",
      "1186/1186 [==============================] - 3s 2ms/step - loss: 10057202794496.0000 - val_loss: 15538924290048.0000\n",
      "Epoch 8/20\n",
      "1186/1186 [==============================] - 3s 2ms/step - loss: 10045251125248.0000 - val_loss: 15291030437888.0000\n",
      "Epoch 9/20\n",
      "1186/1186 [==============================] - 3s 2ms/step - loss: 9926114017280.0000 - val_loss: 15201572225024.0000A: 0s - loss: \n",
      "Epoch 10/20\n",
      "1186/1186 [==============================] - 3s 2ms/step - loss: 9939962560512.0000 - val_loss: 15112064729088.0000\n",
      "Epoch 11/20\n",
      "1186/1186 [==============================] - 3s 2ms/step - loss: 9846088794112.0000 - val_loss: 15262264852480.0000\n",
      "Epoch 12/20\n",
      "1186/1186 [==============================] - 3s 3ms/step - loss: 9805511000064.0000 - val_loss: 15724276875264.0000\n",
      "Epoch 13/20\n",
      "1186/1186 [==============================] - 3s 2ms/step - loss: 9955242409984.0000 - val_loss: 15777697628160.0000\n",
      "Epoch 14/20\n",
      "1186/1186 [==============================] - 3s 2ms/step - loss: 9800803942400.0000 - val_loss: 16117877702656.0000\n",
      "Epoch 15/20\n",
      "1186/1186 [==============================] - 3s 2ms/step - loss: 9775421063168.0000 - val_loss: 16183328768000.0000\n",
      "Epoch 16/20\n",
      "1186/1186 [==============================] - 3s 2ms/step - loss: 9651261276160.0000 - val_loss: 15873254359040.0000\n",
      "Epoch 17/20\n",
      "1186/1186 [==============================] - 3s 3ms/step - loss: 9758923816960.0000 - val_loss: 15699688816640.0000\n",
      "Epoch 18/20\n",
      "1186/1186 [==============================] - 3s 2ms/step - loss: 9804450889728.0000 - val_loss: 15403610800128.0000\n",
      "Epoch 19/20\n",
      "1186/1186 [==============================] - 3s 2ms/step - loss: 9860103012352.0000 - val_loss: 15662776844288.0000\n",
      "Epoch 20/20\n",
      "1186/1186 [==============================] - 3s 2ms/step - loss: 9807989833728.0000 - val_loss: 15762715574272.0000\n"
     ]
    },
    {
     "data": {
      "text/plain": [
       "<tensorflow.python.keras.callbacks.History at 0x21eeb6f6be0>"
      ]
     },
     "execution_count": 109,
     "metadata": {},
     "output_type": "execute_result"
    }
   ],
   "source": [
    "model2.fit(x=X_train_2, \n",
    "          y=y_train_2, \n",
    "          epochs=20,\n",
    "          validation_data=(X_test_2, y_test_2), \n",
    "          )"
   ]
  },
  {
   "cell_type": "code",
   "execution_count": 110,
   "id": "3ebdb6f2",
   "metadata": {
    "scrolled": false
   },
   "outputs": [
    {
     "name": "stdout",
     "output_type": "stream",
     "text": [
      "Simple Model\n",
      "Train Normalized RMSE: 2.6550657537387825\n",
      "Test Normalized RMSE: 2.9339416085047287\n",
      "\n",
      "Complex Model\n",
      "Train Normalized RMSE: 2.2178926876211444\n",
      "Test Normalized RMSE: 2.862900811490843\n"
     ]
    }
   ],
   "source": [
    "y_pred_train = model.predict(X_train)\n",
    "y_pred = model.predict(X_test)\n",
    "\n",
    "y_pred_train_2 = model2.predict(X_train_2)\n",
    "y_pred_2 = model2.predict(X_test_2)\n",
    "\n",
    "\n",
    "NRMSE_NN = RMSE(y_test,y_pred) / y_test.mean() \n",
    "NRMSE_NN_train = RMSE(y_train,y_pred_train) / y_train.mean()\n",
    "\n",
    "NRMSE_NN_2 = RMSE(y_test_2,y_pred_2) / y_test_2.mean() \n",
    "NRMSE_NN_train_2 = RMSE(y_train_2,y_pred_train_2) / y_train_2.mean()\n",
    "\n",
    "print(\"Simple Model\")\n",
    "print(f\"Train Normalized RMSE: {NRMSE_NN_train}\")\n",
    "print(f\"Test Normalized RMSE: {NRMSE_NN}\")\n",
    "print()\n",
    "print(\"Complex Model\")\n",
    "print(f\"Train Normalized RMSE: {NRMSE_NN_train_2}\")\n",
    "print(f\"Test Normalized RMSE: {NRMSE_NN_2}\")"
   ]
  },
  {
   "cell_type": "markdown",
   "id": "dfd0e335",
   "metadata": {},
   "source": [
    "#### Lasso Regression"
   ]
  },
  {
   "cell_type": "code",
   "execution_count": 111,
   "id": "50232042",
   "metadata": {},
   "outputs": [
    {
     "name": "stderr",
     "output_type": "stream",
     "text": [
      "C:\\Users\\Prave\\anaconda3\\lib\\site-packages\\sklearn\\linear_model\\_coordinate_descent.py:530: ConvergenceWarning: Objective did not converge. You might want to increase the number of iterations. Duality gap: 2.4442369228291082e+17, tolerance: 73822199580219.17\n",
      "  model = cd_fast.enet_coordinate_descent(\n"
     ]
    },
    {
     "name": "stdout",
     "output_type": "stream",
     "text": [
      "Simplex Model\n",
      "Train Normalized RMSE: 2.6524272040741264\n",
      "Test Normalized RMSE: 2.9850468143454147\n",
      "\n",
      "Complex Model\n",
      "Train Normalized RMSE: 2.507358152136674\n",
      "Test Normalized RMSE: 2.804488839887882\n"
     ]
    }
   ],
   "source": [
    "# Performs L1 regularization, i.e. adds penalty equivalent to absolute value of the magnitude of coefficients\n",
    "lassoreg_m = linear_model.Lasso(alpha=0.001,max_iter=10000)\n",
    "lassoreg_m.fit(X_train, y_train)\n",
    "\n",
    "lassoreg_m2 = linear_model.Lasso(alpha=0.001,max_iter=10000)\n",
    "lassoreg_m2.fit(X_train_2, y_train_2)\n",
    "\n",
    "y_pred_lasso=lassoreg_m.predict(X_test)\n",
    "y_pred_lasso_train = lassoreg_m.predict(X_train)\n",
    "\n",
    "y_pred_lasso_2=lassoreg_m2.predict(X_test_2)\n",
    "y_pred_lasso_train_2 = lassoreg_m2.predict(X_train_2)\n",
    "\n",
    "NRMSE_LR = RMSE(y_test,y_pred_lasso) / y_test.mean() \n",
    "NRMSE_LR_train = RMSE(y_train,y_pred_lasso_train) / y_train.mean()\n",
    "NRMSE_LR_2 = RMSE(y_test_2,y_pred_lasso_2) / y_test_2.mean() \n",
    "NRMSE_LR_train_2 = RMSE(y_train_2,y_pred_lasso_train_2) / y_train_2.mean()\n",
    "\n",
    "print(\"Simplex Model\")\n",
    "print(f\"Train Normalized RMSE: {NRMSE_LR_train}\")\n",
    "print(f\"Test Normalized RMSE: {NRMSE_LR}\")\n",
    "print()\n",
    "print(\"Complex Model\")\n",
    "print(f\"Train Normalized RMSE: {NRMSE_LR_train_2}\")\n",
    "print(f\"Test Normalized RMSE: {NRMSE_LR_2}\")"
   ]
  },
  {
   "cell_type": "markdown",
   "id": "fb852027",
   "metadata": {},
   "source": [
    "#### Ridge Regression"
   ]
  },
  {
   "cell_type": "code",
   "execution_count": 113,
   "id": "c84d162d",
   "metadata": {},
   "outputs": [
    {
     "name": "stdout",
     "output_type": "stream",
     "text": [
      "Simple Model\n",
      "Train Normalized RMSE: 2.6533578486959835\n",
      "Test Normalized RMSE: 2.988633358195441\n",
      "\n",
      "Complex Model\n",
      "Train Normalized RMSE: 2.507359015175691\n",
      "Test Normalized RMSE: 2.804317500234512\n"
     ]
    }
   ],
   "source": [
    "# Performs L2 regularization, i.e. adds penalty equivalent to square of the magnitude of coefficients\n",
    "ridgereg_m = linear_model.Ridge(alpha=0.001, normalize=True)\n",
    "ridgereg_m.fit(X_train, y_train)\n",
    "ridgereg_m2 = linear_model.Ridge(alpha=0.001, normalize=True)\n",
    "ridgereg_m2.fit(X_train_2, y_train_2)\n",
    "\n",
    "y_pred_ridge = ridgereg_m.predict(X_test)\n",
    "y_pred_ridge_train = ridgereg_m.predict(X_train)\n",
    "y_pred_ridge_2 = ridgereg_m2.predict(X_test_2)\n",
    "y_pred_ridge_train_2 = ridgereg_m2.predict(X_train_2)\n",
    "\n",
    "NRMSE_RR = RMSE(y_test,y_pred_ridge) / y_test.mean() \n",
    "NRMSE_RR_train = RMSE(y_train,y_pred_ridge_train) / y_train.mean()\n",
    "NRMSE_RR_2 = RMSE(y_test_2,y_pred_ridge_2) / y_test_2.mean() \n",
    "NRMSE_RR_train_2 = RMSE(y_train_2,y_pred_ridge_train_2) / y_train_2.mean()\n",
    "\n",
    "print(\"Simple Model\")\n",
    "print(f\"Train Normalized RMSE: {NRMSE_RR_train}\")\n",
    "print(f\"Test Normalized RMSE: {NRMSE_RR}\")\n",
    "print()\n",
    "print(\"Complex Model\")\n",
    "print(f\"Train Normalized RMSE: {NRMSE_RR_train_2}\")\n",
    "print(f\"Test Normalized RMSE: {NRMSE_RR_2}\")"
   ]
  },
  {
   "cell_type": "markdown",
   "id": "5b535e0c",
   "metadata": {},
   "source": [
    "#### Elastic Net"
   ]
  },
  {
   "cell_type": "code",
   "execution_count": 115,
   "id": "2423163b",
   "metadata": {},
   "outputs": [
    {
     "name": "stdout",
     "output_type": "stream",
     "text": [
      "Simple Model\n",
      "Train Normalized RMSE: 3.203253931401851\n",
      "Test Normalized RMSE: 3.382412360649635\n",
      "\n",
      "Complex Model\n",
      "Train Normalized RMSE: 2.527339111892294\n",
      "Test Normalized RMSE: 2.8122316295442618\n"
     ]
    }
   ],
   "source": [
    "# ElasticNet is hybrid of Lasso and Ridge Regression techniques\n",
    "elasticnet_m = linear_model.ElasticNet(normalize=False, max_iter = 100000)\n",
    "elasticnet_m.fit(X_train, y_train)\n",
    "elasticnet_m2 = linear_model.ElasticNet(normalize=False, max_iter = 100000)\n",
    "elasticnet_m2.fit(X_train_2, y_train_2)\n",
    "\n",
    "y_pred_en = elasticnet_m.predict(X_test)\n",
    "y_pred_en_train = elasticnet_m.predict(X_train)\n",
    "y_pred_en_2 = elasticnet_m2.predict(X_test_2)\n",
    "y_pred_en_train_2 = elasticnet_m2.predict(X_train_2)\n",
    "\n",
    "NRMSE_EN = RMSE(y_test,y_pred_en) / y_test.mean() \n",
    "NRMSE_EN_train = RMSE(y_train,y_pred_en_train) / y_train.mean()\n",
    "NRMSE_EN_2 = RMSE(y_test_2,y_pred_en_2) / y_test_2.mean() \n",
    "NRMSE_EN_train_2 = RMSE(y_train_2,y_pred_en_train_2) / y_train_2.mean()\n",
    "\n",
    "print(\"Simple Model\")\n",
    "print(f\"Train Normalized RMSE: {NRMSE_EN_train}\")\n",
    "print(f\"Test Normalized RMSE: {NRMSE_EN}\")\n",
    "print()\n",
    "print(\"Complex Model\")\n",
    "print(f\"Train Normalized RMSE: {NRMSE_EN_train_2}\")\n",
    "print(f\"Test Normalized RMSE: {NRMSE_EN_2}\")"
   ]
  },
  {
   "cell_type": "markdown",
   "id": "c380f5a4",
   "metadata": {},
   "source": [
    "#### kNN Regression"
   ]
  },
  {
   "cell_type": "code",
   "execution_count": 116,
   "id": "a8ba2166",
   "metadata": {},
   "outputs": [],
   "source": [
    "from sklearn.neighbors import KNeighborsRegressor"
   ]
  },
  {
   "cell_type": "code",
   "execution_count": 117,
   "id": "0be86ab0",
   "metadata": {},
   "outputs": [
    {
     "name": "stdout",
     "output_type": "stream",
     "text": [
      "RMSE value for k=  1 is: 3.1779915802425442\n",
      "RMSE value for k=  2 is: 2.979578799881089\n",
      "RMSE value for k=  3 is: 2.9364884449362165\n",
      "RMSE value for k=  4 is: 2.8580323348562113\n",
      "RMSE value for k=  5 is: 2.8008325748724454\n",
      "RMSE value for k=  6 is: 2.783685882483552\n",
      "RMSE value for k=  7 is: 2.7978498064165565\n",
      "RMSE value for k=  8 is: 2.769883899068683\n",
      "RMSE value for k=  9 is: 2.778928697651971\n",
      "RMSE value for k=  10 is: 2.791955428391237\n"
     ]
    }
   ],
   "source": [
    "nrmse_val_knn = []\n",
    "K_val = []\n",
    "for K in range(10):\n",
    "    K = K+1\n",
    "    knn = KNeighborsRegressor(n_neighbors = K)\n",
    "    knn.fit(X_train, y_train)  #fit the model\n",
    "    y_pred_knn =knn.predict(X_test) #make prediction on test set\n",
    "    NRMSE_knn = RMSE(y_test, y_pred_knn) / y_test.mean() #calculate rmse\n",
    "    nrmse_val_knn.append(NRMSE_knn)\n",
    "    K_val.append(K)\n",
    "    print('RMSE value for k= ' , K , 'is:', NRMSE_knn)"
   ]
  },
  {
   "cell_type": "code",
   "execution_count": 118,
   "id": "6119cbef",
   "metadata": {},
   "outputs": [
    {
     "name": "stdout",
     "output_type": "stream",
     "text": [
      "RMSE value for k=  1 is: 3.0292661623185677\n",
      "RMSE value for k=  2 is: 2.830300211998746\n",
      "RMSE value for k=  3 is: 2.764804513710072\n",
      "RMSE value for k=  4 is: 2.7561902097020705\n",
      "RMSE value for k=  5 is: 2.7574429790478057\n",
      "RMSE value for k=  6 is: 2.765992796211946\n",
      "RMSE value for k=  7 is: 2.754888833740065\n",
      "RMSE value for k=  8 is: 2.726875972771394\n",
      "RMSE value for k=  9 is: 2.7330477746415816\n",
      "RMSE value for k=  10 is: 2.751527835166091\n"
     ]
    }
   ],
   "source": [
    "nrmse_val_knn_2 = []\n",
    "K_val_2 = []\n",
    "for K in range(10):\n",
    "    K = K+1\n",
    "    knn2 = KNeighborsRegressor(n_neighbors = K)\n",
    "    knn2.fit(X_train_2, y_train_2)  #fit the model\n",
    "    y_pred_knn_2 =knn2.predict(X_test_2) #make prediction on test set\n",
    "    NRMSE_knn_2 = RMSE(y_test_2, y_pred_knn_2) / y_test_2.mean() #calculate rmse\n",
    "    nrmse_val_knn_2.append(NRMSE_knn_2)\n",
    "    K_val_2.append(K)\n",
    "    print('RMSE value for k= ' , K , 'is:', NRMSE_knn_2)"
   ]
  },
  {
   "cell_type": "code",
   "execution_count": 119,
   "id": "bd9a7bc5",
   "metadata": {},
   "outputs": [
    {
     "data": {
      "text/plain": [
       "Text(0, 0.5, 'Normalised RMSE')"
      ]
     },
     "execution_count": 119,
     "metadata": {},
     "output_type": "execute_result"
    },
    {
     "data": {
      "image/png": "[encoded data removed]",
      "text/plain": [
       "<Figure size 432x288 with 1 Axes>"
      ]
     },
     "metadata": {
      "needs_background": "light"
     },
     "output_type": "display_data"
    }
   ],
   "source": [
    "#Plot the NRMSE Value against the k value\n",
    "plt.plot(K_val,nrmse_val_knn)\n",
    "plt.title(\"Number of Neighbors Analysis (Simple Model)\")\n",
    "plt.xlabel(\"Number of Neighbors\")\n",
    "plt.ylabel(\"Normalised RMSE\")"
   ]
  },
  {
   "cell_type": "markdown",
   "id": "fa110aec",
   "metadata": {},
   "source": [
    "Based on above RMSE values, we are going to choose k  = 8 because it shows the lowest RMSE value."
   ]
  },
  {
   "cell_type": "code",
   "execution_count": 120,
   "id": "ca1c70ea",
   "metadata": {},
   "outputs": [
    {
     "data": {
      "text/plain": [
       "Text(0, 0.5, 'Normalised RMSE')"
      ]
     },
     "execution_count": 120,
     "metadata": {},
     "output_type": "execute_result"
    },
    {
     "data": {
      "image/png": "[encoded data removed]",
      "text/plain": [
       "<Figure size 432x288 with 1 Axes>"
      ]
     },
     "metadata": {
      "needs_background": "light"
     },
     "output_type": "display_data"
    }
   ],
   "source": [
    "#Plot the NRMSE Value against the k value\n",
    "plt.plot(K_val_2,nrmse_val_knn_2)\n",
    "plt.title(\"Number of Neighbors Analysis (Complex Model)\")\n",
    "plt.xlabel(\"Number of Neighbors\")\n",
    "plt.ylabel(\"Normalised RMSE\")"
   ]
  },
  {
   "cell_type": "markdown",
   "id": "a45e9c4f",
   "metadata": {},
   "source": [
    "Based on above RMSE values, we are going to choose k  = 8 because it shows the lowest RMSE value."
   ]
  },
  {
   "cell_type": "code",
   "execution_count": 125,
   "id": "ce495589",
   "metadata": {},
   "outputs": [],
   "source": [
    "K = 8\n",
    "knn = KNeighborsRegressor(n_neighbors = K)\n",
    "knn.fit(X_train, y_train)  #fit the model\n",
    "y_pred_knn =knn.predict(X_test) #make prediction on test set\n",
    "y_pred_knn_train =knn.predict(X_train) #make prediction on train set\n",
    "NRMSE_knn = RMSE(y_test, y_pred_knn) / y_test.mean() #calculate rmse\n",
    "NRMSE_knn_train = RMSE(y_train, y_pred_knn_train) / y_test.mean() #calculate rmse for train"
   ]
  },
  {
   "cell_type": "code",
   "execution_count": 126,
   "id": "1e57d9fb",
   "metadata": {},
   "outputs": [],
   "source": [
    "K = 8\n",
    "knn2 = KNeighborsRegressor(n_neighbors = K)\n",
    "knn2.fit(X_train_2, y_train_2)  #fit the model\n",
    "y_pred_knn_2 =knn2.predict(X_test_2) #make prediction on test set\n",
    "y_pred_knn_train_2 =knn2.predict(X_train_2) #make prediction on train set\n",
    "NRMSE_knn_2 = RMSE(y_test_2, y_pred_knn_2) / y_test_2.mean() #calculate rmse\n",
    "NRMSE_knn_train_2 = RMSE(y_train_2, y_pred_knn_train_2) / y_test_2.mean() #calculate rmse for train"
   ]
  },
  {
   "cell_type": "code",
   "execution_count": 127,
   "id": "73b8e663",
   "metadata": {},
   "outputs": [
    {
     "name": "stdout",
     "output_type": "stream",
     "text": [
      "Simple Model\n",
      "Train NRMSE: 2.3140632735732547\n",
      "Test NRMSE: 2.769883899068683\n",
      "\n",
      "Complex Model\n",
      "Train NRMSE: 2.3565090619719755\n",
      "Test NRMSE: 2.726875972771394\n"
     ]
    }
   ],
   "source": [
    "print(\"Simple Model\")\n",
    "print(f\"Train NRMSE: {NRMSE_knn_train}\")\n",
    "print(f\"Test NRMSE: {NRMSE_knn}\")\n",
    "print()\n",
    "print(\"Complex Model\")\n",
    "print(f\"Train NRMSE: {NRMSE_knn_train_2}\")\n",
    "print(f\"Test NRMSE: {NRMSE_knn_2}\")"
   ]
  },
  {
   "cell_type": "markdown",
   "id": "fbf73db1",
   "metadata": {},
   "source": [
    "#### Decision Tree Regressor"
   ]
  },
  {
   "cell_type": "code",
   "execution_count": 128,
   "id": "8df1b9fb",
   "metadata": {},
   "outputs": [
    {
     "data": {
      "text/plain": [
       "DecisionTreeRegressor()"
      ]
     },
     "execution_count": 128,
     "metadata": {},
     "output_type": "execute_result"
    }
   ],
   "source": [
    "from sklearn.tree import DecisionTreeRegressor\n",
    "from sklearn import tree\n",
    "dectregressor = DecisionTreeRegressor()\n",
    "dectregressor.fit(X_train, y_train)\n",
    "dectregressor2 = DecisionTreeRegressor()\n",
    "dectregressor2.fit(X_train_2, y_train_2)"
   ]
  },
  {
   "cell_type": "code",
   "execution_count": 129,
   "id": "29fb1c3a",
   "metadata": {},
   "outputs": [],
   "source": [
    "y_pred_dec_train = dectregressor.predict(X_train)\n",
    "y_pred_dec = dectregressor.predict(X_test)\n",
    "NRMSE_dec = RMSE(y_test, y_pred_dec) / y_test.mean() #calculate rmse\n",
    "NRMSE_dec_train = RMSE(y_train, y_pred_dec_train) / y_test.mean() #calculate rmse for train"
   ]
  },
  {
   "cell_type": "code",
   "execution_count": 131,
   "id": "422e3f3b",
   "metadata": {},
   "outputs": [],
   "source": [
    "y_pred_dec_train_2 = dectregressor2.predict(X_train_2)\n",
    "y_pred_dec_2 = dectregressor2.predict(X_test_2)\n",
    "NRMSE_dec_2 = RMSE(y_test_2, y_pred_dec_2) / y_test_2.mean() #calculate rmse\n",
    "NRMSE_dec_train_2 = RMSE(y_train_2, y_pred_dec_train_2) / y_test_2.mean() #calculate rmse for train"
   ]
  },
  {
   "cell_type": "code",
   "execution_count": 132,
   "id": "483165d2",
   "metadata": {},
   "outputs": [
    {
     "name": "stdout",
     "output_type": "stream",
     "text": [
      "Simple Model\n",
      "Train NRMSE: 0.2704463713190877\n",
      "Test NRMSE: 2.7186181654378503\n",
      "\n",
      "Complex Model\n",
      "Train NRMSE: 0.2704463713190877\n",
      "Test NRMSE: 2.848475588041637\n"
     ]
    }
   ],
   "source": [
    "print(\"Simple Model\")\n",
    "print(f\"Train NRMSE: {NRMSE_dec_train}\")\n",
    "print(f\"Test NRMSE: {NRMSE_dec}\")\n",
    "print()\n",
    "print(\"Complex Model\")\n",
    "print(f\"Train NRMSE: {NRMSE_dec_train_2}\")\n",
    "print(f\"Test NRMSE: {NRMSE_dec_2}\")"
   ]
  },
  {
   "cell_type": "markdown",
   "id": "5554c5fd",
   "metadata": {},
   "source": [
    "This decision tree model might be over overfitting as the NRMSE of the train model is very small relative to the NRMSE of the test model"
   ]
  },
  {
   "cell_type": "markdown",
   "id": "7c1dd8ea",
   "metadata": {},
   "source": [
    "#### Gradient Boosting Regression"
   ]
  },
  {
   "cell_type": "markdown",
   "id": "520a2f7d",
   "metadata": {},
   "source": [
    "We can create Gradient Boosting Regression and improve the model through looking for the most optimum maximum tree depth value"
   ]
  },
  {
   "cell_type": "code",
   "execution_count": 133,
   "id": "8cdf50da",
   "metadata": {},
   "outputs": [
    {
     "name": "stdout",
     "output_type": "stream",
     "text": [
      "NRMSE value for maximum tree depth=  2 is: 2.3989587789012505\n",
      "NRMSE value for maximum tree depth=  3 is: 2.2949836586101986\n",
      "NRMSE value for maximum tree depth=  4 is: 2.2369270060526176\n",
      "NRMSE value for maximum tree depth=  5 is: 2.189046442135351\n",
      "NRMSE value for maximum tree depth=  6 is: 2.21994123345714\n",
      "NRMSE value for maximum tree depth=  7 is: 2.2209565668568856\n"
     ]
    }
   ],
   "source": [
    "from sklearn.preprocessing import StandardScaler\n",
    "from sklearn.ensemble import GradientBoostingRegressor\n",
    "\n",
    "nrmse_val_gbr = []\n",
    "max_depth_val = []\n",
    "\n",
    "sc = StandardScaler()\n",
    "X_train_std = sc.fit_transform(X_train)\n",
    "X_test_std = sc.transform(X_test)\n",
    "\n",
    "for depth in range(2,8):\n",
    "    gbr_params = {'n_estimators': 1000,\n",
    "              'max_depth': depth,\n",
    "              'min_samples_split': 5,\n",
    "              'learning_rate': 0.01,\n",
    "              'loss': 'ls'}\n",
    "    # Create an instance of gradient boosting regressor\n",
    "    gbr = GradientBoostingRegressor(**gbr_params)\n",
    "    gbr.fit(X_train_std, y_train)\n",
    "    \n",
    "    #Predict the y value from the test data\n",
    "    y_predict_gbr = gbr.predict(X_test_std)\n",
    "    \n",
    "    #Calculate the Normalized RMSE\n",
    "    NRMSE_GBR = RMSE(y_test, y_predict_gbr) / y_test.mean() #calculate rmse\n",
    "    \n",
    "    max_depth_val.append(depth)\n",
    "    nrmse_val_gbr.append(NRMSE_GBR)\n",
    "    print('NRMSE value for maximum tree depth = ' , depth , 'is:', NRMSE_GBR)"
   ]
  },
  {
   "cell_type": "code",
   "execution_count": 142,
   "id": "6457431a",
   "metadata": {},
   "outputs": [
    {
     "data": {
      "text/plain": [
       "Text(0, 0.5, 'Normalized RMSE')"
      ]
     },
     "execution_count": 142,
     "metadata": {},
     "output_type": "execute_result"
    },
    {
     "data": {
      "image/png": "[encoded data removed]",
      "text/plain": [
       "<Figure size 432x288 with 1 Axes>"
      ]
     },
     "metadata": {
      "needs_background": "light"
     },
     "output_type": "display_data"
    }
   ],
   "source": [
    "#Plot the NRMSE Value against the k value\n",
    "curve = pd.DataFrame(nrmse_val_gbr) #elbow curve \n",
    "plt.plot(max_depth_val,nrmse_val_gbr)\n",
    "plt.title(\"Elbow Curve\")\n",
    "plt.xlabel(\"Max Tree Depth\")\n",
    "plt.ylabel(\"Normalized RMSE\")"
   ]
  },
  {
   "cell_type": "markdown",
   "id": "a4f15ba1",
   "metadata": {},
   "source": [
    "Based on the plot above, the optimum value of the maximum depth tree depth variable is 5. This model could be further improved by increasing the number of trees (n_estimator), learning rate (learning_rate), and choosing another loss function (loss). \n",
    "\n",
    "However, changing these variables will have an effect to the computing time, because this model creates the trees sequentially. "
   ]
  },
  {
   "cell_type": "markdown",
   "id": "814dc769",
   "metadata": {},
   "source": [
    "**WARNING: The code below takes a long time to compute**"
   ]
  },
  {
   "cell_type": "code",
   "execution_count": 146,
   "id": "9300e639",
   "metadata": {},
   "outputs": [
    {
     "name": "stdout",
     "output_type": "stream",
     "text": [
      "NRMSE value for maximum tree depth =  2 is: 2.6894872821354885\n",
      "NRMSE value for maximum tree depth =  3 is: 2.662995231185586\n",
      "NRMSE value for maximum tree depth =  4 is: 2.5685288681232956\n",
      "NRMSE value for maximum tree depth =  5 is: 2.6009342255241523\n",
      "NRMSE value for maximum tree depth =  6 is: 2.534169504499126\n",
      "NRMSE value for maximum tree depth =  7 is: 2.537023551526245\n"
     ]
    }
   ],
   "source": [
    "from sklearn.preprocessing import StandardScaler\n",
    "from sklearn.ensemble import GradientBoostingRegressor\n",
    "\n",
    "nrmse_val_gbr_2 = []\n",
    "max_depth_val_2 = []\n",
    "\n",
    "sc = StandardScaler()\n",
    "X_train_std_2 = sc.fit_transform(X_train_2)\n",
    "X_test_std_2 = sc.transform(X_test_2)\n",
    "\n",
    "for depth in range(2,8):\n",
    "    gbr_params = {'n_estimators': 100,\n",
    "              'max_depth': depth,\n",
    "              'min_samples_split': 5,\n",
    "              'learning_rate': 0.1,\n",
    "              'loss': 'ls'}\n",
    "    # Create an instance of gradient boosting regressor\n",
    "    gbr2 = GradientBoostingRegressor(**gbr_params)\n",
    "    gbr2.fit(X_train_std_2, y_train_2)\n",
    "    \n",
    "    #Predict the y value from the test data\n",
    "    y_predict_gbr_2 = gbr2.predict(X_test_std_2)\n",
    "    \n",
    "    #Calculate the Normalized RMSE\n",
    "    NRMSE_GBR_2 = RMSE(y_test_2, y_predict_gbr_2) / y_test_2.mean() #calculate rmse\n",
    "    \n",
    "    max_depth_val_2.append(depth)\n",
    "    nrmse_val_gbr_2.append(NRMSE_GBR_2)\n",
    "    print('NRMSE value for maximum tree depth = ' , depth , 'is:', NRMSE_GBR_2)"
   ]
  },
  {
   "cell_type": "code",
   "execution_count": 147,
   "id": "e981fdc8",
   "metadata": {},
   "outputs": [
    {
     "data": {
      "text/plain": [
       "Text(0, 0.5, 'Normalized RMSE')"
      ]
     },
     "execution_count": 147,
     "metadata": {},
     "output_type": "execute_result"
    },
    {
     "data": {
      "image/png": "[encoded data removed]",
      "text/plain": [
       "<Figure size 432x288 with 1 Axes>"
      ]
     },
     "metadata": {
      "needs_background": "light"
     },
     "output_type": "display_data"
    }
   ],
   "source": [
    "#Plot the NRMSE Value against the k value\n",
    "curve2 = pd.DataFrame(nrmse_val_gbr_2) #elbow curve \n",
    "plt.plot(max_depth_val_2,nrmse_val_gbr_2)\n",
    "plt.title(\"Elbow Curve\")\n",
    "plt.xlabel(\"Max Tree Depth\")\n",
    "plt.ylabel(\"Normalized RMSE\")"
   ]
  },
  {
   "cell_type": "code",
   "execution_count": 148,
   "id": "3edf7cf8",
   "metadata": {},
   "outputs": [
    {
     "data": {
      "text/plain": [
       "GradientBoostingRegressor(max_depth=5, min_samples_split=5)"
      ]
     },
     "execution_count": 148,
     "metadata": {},
     "output_type": "execute_result"
    }
   ],
   "source": [
    "depth = 5\n",
    "gbr_params = {'n_estimators': 1000,\n",
    "          'max_depth': depth,\n",
    "          'min_samples_split': 5,\n",
    "          'learning_rate': 0.01,\n",
    "          'loss': 'ls'}\n",
    "\n",
    "depth2 = 6\n",
    "gbr2_params = {'n_estimators': 100,\n",
    "          'max_depth': depth,\n",
    "          'min_samples_split': 5,\n",
    "          'learning_rate': 0.1,\n",
    "          'loss': 'ls'}\n",
    "#\n",
    "# Create an instance of gradient boosting regressor\n",
    "gbr = GradientBoostingRegressor(**gbr_params)\n",
    "gbr.fit(X_train_std, y_train)\n",
    "\n",
    "gbr2 = GradientBoostingRegressor(**gbr2_params)\n",
    "gbr2.fit(X_train_std_2, y_train_2)"
   ]
  },
  {
   "cell_type": "code",
   "execution_count": 150,
   "id": "3c5fbb3e",
   "metadata": {},
   "outputs": [],
   "source": [
    "y_predict_gbr = gbr.predict(X_test_std)\n",
    "y_predict_gbr_train =  gbr.predict(X_train_std)\n",
    "\n",
    "y_predict_gbr_2 = gbr2.predict(X_test_std_2)\n",
    "y_predict_gbr_train_2 =  gbr2.predict(X_train_std_2)"
   ]
  },
  {
   "cell_type": "code",
   "execution_count": 151,
   "id": "6baa6045",
   "metadata": {},
   "outputs": [],
   "source": [
    "NRMSE_GBR = RMSE(y_test, y_predict_gbr) / y_test.mean() #calculate rmse\n",
    "NRMSE_GBR_train = RMSE(y_train, y_predict_gbr_train) / y_test.mean() #calculate rmse for train\n",
    "\n",
    "NRMSE_GBR_2 = RMSE(y_test_2, y_predict_gbr_2) / y_test_2.mean() #calculate rmse\n",
    "NRMSE_GBR_train_2 = RMSE(y_train_2, y_predict_gbr_train_2) / y_test_2.mean() #calculate rmse for train"
   ]
  },
  {
   "cell_type": "code",
   "execution_count": 152,
   "id": "652b97d9",
   "metadata": {},
   "outputs": [
    {
     "name": "stdout",
     "output_type": "stream",
     "text": [
      "Simple Model\n",
      "Train NRMSE: 1.2790819738018986\n",
      "Test NRMSE: 2.1922242562811873\n",
      "\n",
      "Complex Model\n",
      "Train NRMSE: 1.087173955890977\n",
      "Test NRMSE: 2.5945118748887688\n"
     ]
    }
   ],
   "source": [
    "print(\"Simple Model\")\n",
    "print(f\"Train NRMSE: {NRMSE_GBR_train}\")\n",
    "print(f\"Test NRMSE: {NRMSE_GBR}\")\n",
    "print()\n",
    "print(\"Complex Model\")\n",
    "print(f\"Train NRMSE: {NRMSE_GBR_train_2}\")\n",
    "print(f\"Test NRMSE: {NRMSE_GBR_2}\")"
   ]
  },
  {
   "cell_type": "markdown",
   "id": "a73afd77",
   "metadata": {},
   "source": [
    "Now let's take a look the most important features for this model. (Simple Model)"
   ]
  },
  {
   "cell_type": "code",
   "execution_count": 153,
   "id": "8e2d8d90",
   "metadata": {},
   "outputs": [
    {
     "data": {
      "text/plain": [
       "Text(0.5, 0, 'Relative Importance')"
      ]
     },
     "execution_count": 153,
     "metadata": {},
     "output_type": "execute_result"
    },
    {
     "data": {
      "image/png": "[encoded data removed]",
      "text/plain": [
       "<Figure size 432x288 with 1 Axes>"
      ]
     },
     "metadata": {
      "needs_background": "light"
     },
     "output_type": "display_data"
    }
   ],
   "source": [
    "import matplotlib.pyplot as plt\n",
    "feature_names = [key for key in df_final if not key == 9]\n",
    "%matplotlib inline\n",
    "importances = gbr.feature_importances_\n",
    "indices = np.argsort(importances)[-7:]\n",
    "plt.figure(figsize=(6,4))\n",
    "plt.title('Seven Most Important Features for Gradient Boosting Regression Model')\n",
    "plt.barh(range(len(indices)), importances[indices], color='b', align='center')\n",
    "plt.yticks(range(len(indices)),np.array(feature_names)[indices])\n",
    "plt.xlabel('Relative Importance')"
   ]
  },
  {
   "cell_type": "markdown",
   "id": "5c731a58",
   "metadata": {},
   "source": [
    "The most important variables are the **Gross Square Feet** and **Block**"
   ]
  },
  {
   "cell_type": "code",
   "execution_count": 164,
   "id": "b575c590",
   "metadata": {},
   "outputs": [
    {
     "name": "stdout",
     "output_type": "stream",
     "text": [
      "SIMPLE MODEL\n"
     ]
    },
    {
     "data": {
      "text/html": [
       "<div>\n",
       "<style scoped>\n",
       "    .dataframe tbody tr th:only-of-type {\n",
       "        vertical-align: middle;\n",
       "    }\n",
       "\n",
       "    .dataframe tbody tr th {\n",
       "        vertical-align: top;\n",
       "    }\n",
       "\n",
       "    .dataframe thead th {\n",
       "        text-align: right;\n",
       "    }\n",
       "</style>\n",
       "<table border=\"1\" class=\"dataframe\">\n",
       "  <thead>\n",
       "    <tr style=\"text-align: right;\">\n",
       "      <th></th>\n",
       "      <th>Normalized Test RMSE</th>\n",
       "      <th>Normalized Training RMSE</th>\n",
       "    </tr>\n",
       "  </thead>\n",
       "  <tbody>\n",
       "    <tr>\n",
       "      <th>Linear Regression</th>\n",
       "      <td>2.983965</td>\n",
       "      <td>2.652165</td>\n",
       "    </tr>\n",
       "    <tr>\n",
       "      <th>Lasso Regression</th>\n",
       "      <td>2.985047</td>\n",
       "      <td>2.652427</td>\n",
       "    </tr>\n",
       "    <tr>\n",
       "      <th>Ridge Regression</th>\n",
       "      <td>2.988633</td>\n",
       "      <td>2.653358</td>\n",
       "    </tr>\n",
       "    <tr>\n",
       "      <th>Elastic Net Regression</th>\n",
       "      <td>3.382412</td>\n",
       "      <td>3.203254</td>\n",
       "    </tr>\n",
       "    <tr>\n",
       "      <th>kNN Regression</th>\n",
       "      <td>2.769884</td>\n",
       "      <td>2.314063</td>\n",
       "    </tr>\n",
       "    <tr>\n",
       "      <th>Decision Tree</th>\n",
       "      <td>2.718618</td>\n",
       "      <td>0.270446</td>\n",
       "    </tr>\n",
       "    <tr>\n",
       "      <th>Random Forest</th>\n",
       "      <td>2.127494</td>\n",
       "      <td>0.875391</td>\n",
       "    </tr>\n",
       "    <tr>\n",
       "      <th>Gradient Boosting Regression</th>\n",
       "      <td>2.192224</td>\n",
       "      <td>1.279082</td>\n",
       "    </tr>\n",
       "    <tr>\n",
       "      <th>Neural Network</th>\n",
       "      <td>2.933942</td>\n",
       "      <td>2.655066</td>\n",
       "    </tr>\n",
       "  </tbody>\n",
       "</table>\n",
       "</div>"
      ],
      "text/plain": [
       "                              Normalized Test RMSE  Normalized Training RMSE\n",
       "Linear Regression                         2.983965                  2.652165\n",
       "Lasso Regression                          2.985047                  2.652427\n",
       "Ridge Regression                          2.988633                  2.653358\n",
       "Elastic Net Regression                    3.382412                  3.203254\n",
       "kNN Regression                            2.769884                  2.314063\n",
       "Decision Tree                             2.718618                  0.270446\n",
       "Random Forest                             2.127494                  0.875391\n",
       "Gradient Boosting Regression              2.192224                  1.279082\n",
       "Neural Network                            2.933942                  2.655066"
      ]
     },
     "execution_count": 164,
     "metadata": {},
     "output_type": "execute_result"
    }
   ],
   "source": [
    "error_matrix_simple = np.array([[NRMSE_linreg, NRMSE_linreg_train],\n",
    "             [NRMSE_LR, NRMSE_LR_train],\n",
    "             [NRMSE_RR, NRMSE_RR_train],\n",
    "             [NRMSE_EN, NRMSE_EN_train],\n",
    "             [NRMSE_knn,NRMSE_knn_train],\n",
    "             [NRMSE_dec, NRMSE_dec_train],\n",
    "             [NRMSE_rforest, NRMSE_rforest_train],\n",
    "             [NRMSE_GBR, NRMSE_GBR_train],\n",
    "             [NRMSE_NN, NRMSE_NN_train]])\n",
    "\n",
    "\n",
    "cols = ['Normalized Test RMSE', 'Normalized Training RMSE']\n",
    "models = ['Linear Regression','Lasso Regression','Ridge Regression', 'Elastic Net Regression', \\\n",
    "          'kNN Regression','Decision Tree','Random Forest', 'Gradient Boosting Regression', \\\n",
    "          'Neural Network']\n",
    "print(\"SIMPLE MODEL\")\n",
    "model_eval_simple = pd.DataFrame(data = error_matrix_simple, columns = cols, index = models)\n",
    "model_eval_simple"
   ]
  },
  {
   "cell_type": "code",
   "execution_count": 162,
   "id": "7ffe211d",
   "metadata": {},
   "outputs": [
    {
     "name": "stdout",
     "output_type": "stream",
     "text": [
      "COMPLEX MODEL\n"
     ]
    },
    {
     "data": {
      "text/html": [
       "<div>\n",
       "<style scoped>\n",
       "    .dataframe tbody tr th:only-of-type {\n",
       "        vertical-align: middle;\n",
       "    }\n",
       "\n",
       "    .dataframe tbody tr th {\n",
       "        vertical-align: top;\n",
       "    }\n",
       "\n",
       "    .dataframe thead th {\n",
       "        text-align: right;\n",
       "    }\n",
       "</style>\n",
       "<table border=\"1\" class=\"dataframe\">\n",
       "  <thead>\n",
       "    <tr style=\"text-align: right;\">\n",
       "      <th></th>\n",
       "      <th>Normalized Test RMSE</th>\n",
       "      <th>Normalized Training RMSE</th>\n",
       "    </tr>\n",
       "  </thead>\n",
       "  <tbody>\n",
       "    <tr>\n",
       "      <th>Linear Regression</th>\n",
       "      <td>2.804489</td>\n",
       "      <td>2.507358</td>\n",
       "    </tr>\n",
       "    <tr>\n",
       "      <th>Lasso Regression</th>\n",
       "      <td>2.804489</td>\n",
       "      <td>2.507358</td>\n",
       "    </tr>\n",
       "    <tr>\n",
       "      <th>Ridge Regression</th>\n",
       "      <td>2.804318</td>\n",
       "      <td>2.507359</td>\n",
       "    </tr>\n",
       "    <tr>\n",
       "      <th>Elastic Net Regression</th>\n",
       "      <td>2.812232</td>\n",
       "      <td>2.527339</td>\n",
       "    </tr>\n",
       "    <tr>\n",
       "      <th>kNN Regression</th>\n",
       "      <td>2.726876</td>\n",
       "      <td>2.356509</td>\n",
       "    </tr>\n",
       "    <tr>\n",
       "      <th>Decision Tree</th>\n",
       "      <td>2.848476</td>\n",
       "      <td>0.270446</td>\n",
       "    </tr>\n",
       "    <tr>\n",
       "      <th>Random Forest</th>\n",
       "      <td>2.379892</td>\n",
       "      <td>0.951097</td>\n",
       "    </tr>\n",
       "    <tr>\n",
       "      <th>Gradient Boosting Regression</th>\n",
       "      <td>2.594512</td>\n",
       "      <td>1.087174</td>\n",
       "    </tr>\n",
       "    <tr>\n",
       "      <th>Neural Network</th>\n",
       "      <td>2.862901</td>\n",
       "      <td>2.217893</td>\n",
       "    </tr>\n",
       "  </tbody>\n",
       "</table>\n",
       "</div>"
      ],
      "text/plain": [
       "                              Normalized Test RMSE  Normalized Training RMSE\n",
       "Linear Regression                         2.804489                  2.507358\n",
       "Lasso Regression                          2.804489                  2.507358\n",
       "Ridge Regression                          2.804318                  2.507359\n",
       "Elastic Net Regression                    2.812232                  2.527339\n",
       "kNN Regression                            2.726876                  2.356509\n",
       "Decision Tree                             2.848476                  0.270446\n",
       "Random Forest                             2.379892                  0.951097\n",
       "Gradient Boosting Regression              2.594512                  1.087174\n",
       "Neural Network                            2.862901                  2.217893"
      ]
     },
     "execution_count": 162,
     "metadata": {},
     "output_type": "execute_result"
    }
   ],
   "source": [
    "error_matrix_complex = np.array([[NRMSE_linreg_2, NRMSE_linreg_train_2],\n",
    "             [NRMSE_LR_2, NRMSE_LR_train_2],\n",
    "             [NRMSE_RR_2, NRMSE_RR_train_2],\n",
    "             [NRMSE_EN_2, NRMSE_EN_train_2],\n",
    "             [NRMSE_knn_2,NRMSE_knn_train_2],\n",
    "             [NRMSE_dec_2, NRMSE_dec_train_2],\n",
    "             [NRMSE_rforest_2, NRMSE_rforest_train_2],\n",
    "             [NRMSE_GBR_2, NRMSE_GBR_train_2],\n",
    "             [NRMSE_NN_2, NRMSE_NN_train_2]])\n",
    "\n",
    "print(\"COMPLEX MODEL\")\n",
    "model_eval_complex = pd.DataFrame(data = error_matrix_complex, columns = cols, index = models)\n",
    "model_eval_complex"
   ]
  },
  {
   "cell_type": "code",
   "execution_count": 183,
   "id": "77e81932",
   "metadata": {},
   "outputs": [
    {
     "data": {
      "text/html": [
       "<div>\n",
       "<style scoped>\n",
       "    .dataframe tbody tr th:only-of-type {\n",
       "        vertical-align: middle;\n",
       "    }\n",
       "\n",
       "    .dataframe tbody tr th {\n",
       "        vertical-align: top;\n",
       "    }\n",
       "\n",
       "    .dataframe thead th {\n",
       "        text-align: right;\n",
       "    }\n",
       "</style>\n",
       "<table border=\"1\" class=\"dataframe\">\n",
       "  <thead>\n",
       "    <tr style=\"text-align: right;\">\n",
       "      <th></th>\n",
       "      <th>Simple Model</th>\n",
       "      <th>Complex Model</th>\n",
       "    </tr>\n",
       "  </thead>\n",
       "  <tbody>\n",
       "    <tr>\n",
       "      <th>Linear Regression</th>\n",
       "      <td>2.983965</td>\n",
       "      <td>2.804489</td>\n",
       "    </tr>\n",
       "    <tr>\n",
       "      <th>Lasso Regression</th>\n",
       "      <td>2.985047</td>\n",
       "      <td>2.804489</td>\n",
       "    </tr>\n",
       "    <tr>\n",
       "      <th>Ridge Regression</th>\n",
       "      <td>2.988633</td>\n",
       "      <td>2.804318</td>\n",
       "    </tr>\n",
       "    <tr>\n",
       "      <th>Elastic Net Regression</th>\n",
       "      <td>3.382412</td>\n",
       "      <td>2.812232</td>\n",
       "    </tr>\n",
       "    <tr>\n",
       "      <th>kNN Regression</th>\n",
       "      <td>2.769884</td>\n",
       "      <td>2.726876</td>\n",
       "    </tr>\n",
       "    <tr>\n",
       "      <th>Decision Tree</th>\n",
       "      <td>2.718618</td>\n",
       "      <td>2.848476</td>\n",
       "    </tr>\n",
       "    <tr>\n",
       "      <th>Random Forest</th>\n",
       "      <td>2.127494</td>\n",
       "      <td>2.379892</td>\n",
       "    </tr>\n",
       "    <tr>\n",
       "      <th>Gradient Boosting Regression</th>\n",
       "      <td>2.192224</td>\n",
       "      <td>2.594512</td>\n",
       "    </tr>\n",
       "    <tr>\n",
       "      <th>Neural Network</th>\n",
       "      <td>2.933942</td>\n",
       "      <td>2.862901</td>\n",
       "    </tr>\n",
       "  </tbody>\n",
       "</table>\n",
       "</div>"
      ],
      "text/plain": [
       "                              Simple Model  Complex Model\n",
       "Linear Regression                 2.983965       2.804489\n",
       "Lasso Regression                  2.985047       2.804489\n",
       "Ridge Regression                  2.988633       2.804318\n",
       "Elastic Net Regression            3.382412       2.812232\n",
       "kNN Regression                    2.769884       2.726876\n",
       "Decision Tree                     2.718618       2.848476\n",
       "Random Forest                     2.127494       2.379892\n",
       "Gradient Boosting Regression      2.192224       2.594512\n",
       "Neural Network                    2.933942       2.862901"
      ]
     },
     "execution_count": 183,
     "metadata": {},
     "output_type": "execute_result"
    }
   ],
   "source": [
    "simple_vs_complex = pd.DataFrame(data=np.array([error_matrix_simple[:,0],error_matrix_complex[:,0]]).transpose(),\\\n",
    "                    columns = ['Simple Model', 'Complex Model'],index = models)\n",
    "simple_vs_complex"
   ]
  },
  {
   "cell_type": "markdown",
   "id": "2a144252",
   "metadata": {},
   "source": [
    "The following models are the learning models where the Simple Model outperforms the Complex Model"
   ]
  },
  {
   "cell_type": "code",
   "execution_count": 169,
   "id": "749fb17f",
   "metadata": {},
   "outputs": [
    {
     "name": "stdout",
     "output_type": "stream",
     "text": [
      "Decision Tree\n",
      "Random Forest\n",
      "Gradient Boosting Regression\n"
     ]
    }
   ],
   "source": [
    "for i in model_eval_simple[model_eval_simple < model_eval_complex]['Normalized Test RMSE'].dropna().index:\n",
    "    print(i)"
   ]
  },
  {
   "cell_type": "markdown",
   "id": "87a57f2e",
   "metadata": {},
   "source": [
    "The following models are the learning models where the Complex Model outperforms the Simple Model"
   ]
  },
  {
   "cell_type": "code",
   "execution_count": 170,
   "id": "90d20fe1",
   "metadata": {},
   "outputs": [
    {
     "name": "stdout",
     "output_type": "stream",
     "text": [
      "Linear Regression\n",
      "Lasso Regression\n",
      "Ridge Regression\n",
      "Elastic Net Regression\n",
      "kNN Regression\n",
      "Neural Network\n"
     ]
    }
   ],
   "source": [
    "for i in model_eval_simple[model_eval_simple > model_eval_complex]['Normalized Test RMSE'].dropna().index:\n",
    "    print(i)"
   ]
  },
  {
   "cell_type": "code",
   "execution_count": 199,
   "id": "90f63b52",
   "metadata": {},
   "outputs": [
    {
     "name": "stdout",
     "output_type": "stream",
     "text": [
      "SIMPLE MODEL: Random Forest, NRMSE Test: 2.1275\n",
      "COMPLEX MODEL: Random Forest, NRMSE Test: 2.3799\n"
     ]
    }
   ],
   "source": [
    "print(f\"SIMPLE MODEL: {simple_vs_complex['Simple Model'].idxmin()}, NRMSE Test: {round(simple_vs_complex['Simple Model'].min(),4)}\")\n",
    "print(f\"COMPLEX MODEL: {simple_vs_complex['Complex Model'].idxmin()}, NRMSE Test: {round(simple_vs_complex['Complex Model'].min(),4)}\")"
   ]
  },
  {
   "cell_type": "markdown",
   "id": "3869c59a",
   "metadata": {},
   "source": [
    "**The best model is the Random Forest Regressor Model using the Simple Model Methodolody (one hot encode columns with less than 50 unique categories)**"
   ]
  },
  {
   "cell_type": "code",
   "execution_count": 159,
   "id": "19bfd916",
   "metadata": {
    "scrolled": false
   },
   "outputs": [
    {
     "data": {
      "text/plain": [
       "Text(0.5, 1.0, 'Model Evaluation')"
      ]
     },
     "execution_count": 159,
     "metadata": {},
     "output_type": "execute_result"
    },
    {
     "data": {
      "image/png": "[encoded data removed]",
      "text/plain": [
       "<Figure size 864x432 with 1 Axes>"
      ]
     },
     "metadata": {},
     "output_type": "display_data"
    }
   ],
   "source": [
    "sns.set_style(\"whitegrid\")\n",
    "model_eval_simple.plot(kind=\"bar\", figsize=(12,6))\n",
    "plt.xlabel(\"Model\",fontsize = 12)\n",
    "plt.ylabel(\"Normalized Root Mean Square Error\",fontsize = 12)\n",
    "plt.title(\"Model Evaluation\", fontsize = 20)"
   ]
  },
  {
   "cell_type": "markdown",
   "id": "a2dd0453",
   "metadata": {},
   "source": [
    "**The above plot compares the Normalized Test and Training Root Mean Squared Errors of the nine different learning models using the Simple Model Methodology (one hot encode less all categorical features with less than 50 unique categories)**"
   ]
  }
 ],
 "metadata": {
  "kernelspec": {
   "display_name": "Python 3 (ipykernel)",
   "language": "python",
   "name": "python3"
  },
  "language_info": {
   "codemirror_mode": {
    "name": "ipython",
    "version": 3
   },
   "file_extension": ".py",
   "mimetype": "text/x-python",
   "name": "python",
   "nbconvert_exporter": "python",
   "pygments_lexer": "ipython3",
   "version": "3.8.5"
  }
 },
 "nbformat": 4,
 "nbformat_minor": 5
}
